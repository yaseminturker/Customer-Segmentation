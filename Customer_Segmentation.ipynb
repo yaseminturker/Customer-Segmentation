{
 "cells": [
  {
   "cell_type": "markdown",
   "id": "283e1fa7",
   "metadata": {},
   "source": [
    "# Customer Segmentation"
   ]
  },
  {
   "cell_type": "markdown",
   "id": "85a361fb",
   "metadata": {},
   "source": [
    "# About Dataset\n",
    "\n",
    "## Context\n",
    "\n",
    "A real online retail transaction data set of two years:\n",
    "https://archive.ics.uci.edu/ml/datasets/Online+Retail+II\n",
    "\n",
    "\n",
    "## Content\n",
    "\n",
    "This Online Retail II data set contains all the transactions occurring for a UK-based and registered, non-store online retail between 01/12/2009 and 09/12/2011.The company mainly sells unique all-occasion gift-ware. Many customers of the company are wholesalers.\n",
    "\n",
    "\n",
    "## Column Descriptors\n",
    "\n",
    "InvoiceNo: Invoice number. Nominal. A 6-digit integral number uniquely assigned to each transaction. If this code starts with the letter 'c', it indicates a cancellation.\n",
    "\n",
    "StockCode: Product (item) code. Nominal. A 5-digit integral number uniquely assigned to each distinct product.\n",
    "\n",
    "Description: Product (item) name. Nominal.\n",
    "\n",
    "Quantity: The quantities of each product (item) per transaction. Numeric.\n",
    "\n",
    "InvoiceDate: Invice date and time. Numeric. The day and time when a transaction was generated.\n",
    "\n",
    "UnitPrice: Unit price. Numeric. Product price per unit in sterling (Â£).\n",
    "\n",
    "CustomerID: Customer number. Nominal. A 5-digit integral number uniquely assigned to each customer.\n",
    "\n",
    "Country: Country name. Nominal. The name of the country where a customer resides."
   ]
  },
  {
   "cell_type": "markdown",
   "id": "7984047c",
   "metadata": {},
   "source": [
    "# Importing Libraries and Data"
   ]
  },
  {
   "cell_type": "code",
   "execution_count": 1,
   "id": "1b523867",
   "metadata": {},
   "outputs": [],
   "source": [
    "import pandas as pd\n",
    "import numpy as np\n",
    "import matplotlib.pyplot as plt\n",
    "import seaborn as sns\n",
    "\n",
    "import warnings\n",
    "warnings.filterwarnings(\"ignore\")\n",
    "\n",
    "import datetime as dt"
   ]
  },
  {
   "cell_type": "code",
   "execution_count": 2,
   "id": "6c177fb5",
   "metadata": {
    "scrolled": true
   },
   "outputs": [
    {
     "data": {
      "text/html": [
       "<div>\n",
       "<style scoped>\n",
       "    .dataframe tbody tr th:only-of-type {\n",
       "        vertical-align: middle;\n",
       "    }\n",
       "\n",
       "    .dataframe tbody tr th {\n",
       "        vertical-align: top;\n",
       "    }\n",
       "\n",
       "    .dataframe thead th {\n",
       "        text-align: right;\n",
       "    }\n",
       "</style>\n",
       "<table border=\"1\" class=\"dataframe\">\n",
       "  <thead>\n",
       "    <tr style=\"text-align: right;\">\n",
       "      <th></th>\n",
       "      <th>Invoice</th>\n",
       "      <th>StockCode</th>\n",
       "      <th>Description</th>\n",
       "      <th>Quantity</th>\n",
       "      <th>InvoiceDate</th>\n",
       "      <th>Price</th>\n",
       "      <th>Customer ID</th>\n",
       "      <th>Country</th>\n",
       "    </tr>\n",
       "  </thead>\n",
       "  <tbody>\n",
       "    <tr>\n",
       "      <th>0</th>\n",
       "      <td>489434</td>\n",
       "      <td>85048</td>\n",
       "      <td>15CM CHRISTMAS GLASS BALL 20 LIGHTS</td>\n",
       "      <td>12</td>\n",
       "      <td>2009-12-01 07:45:00</td>\n",
       "      <td>6.95</td>\n",
       "      <td>13085.0</td>\n",
       "      <td>United Kingdom</td>\n",
       "    </tr>\n",
       "    <tr>\n",
       "      <th>1</th>\n",
       "      <td>489434</td>\n",
       "      <td>79323P</td>\n",
       "      <td>PINK CHERRY LIGHTS</td>\n",
       "      <td>12</td>\n",
       "      <td>2009-12-01 07:45:00</td>\n",
       "      <td>6.75</td>\n",
       "      <td>13085.0</td>\n",
       "      <td>United Kingdom</td>\n",
       "    </tr>\n",
       "    <tr>\n",
       "      <th>2</th>\n",
       "      <td>489434</td>\n",
       "      <td>79323W</td>\n",
       "      <td>WHITE CHERRY LIGHTS</td>\n",
       "      <td>12</td>\n",
       "      <td>2009-12-01 07:45:00</td>\n",
       "      <td>6.75</td>\n",
       "      <td>13085.0</td>\n",
       "      <td>United Kingdom</td>\n",
       "    </tr>\n",
       "    <tr>\n",
       "      <th>3</th>\n",
       "      <td>489434</td>\n",
       "      <td>22041</td>\n",
       "      <td>RECORD FRAME 7\" SINGLE SIZE</td>\n",
       "      <td>48</td>\n",
       "      <td>2009-12-01 07:45:00</td>\n",
       "      <td>2.10</td>\n",
       "      <td>13085.0</td>\n",
       "      <td>United Kingdom</td>\n",
       "    </tr>\n",
       "    <tr>\n",
       "      <th>4</th>\n",
       "      <td>489434</td>\n",
       "      <td>21232</td>\n",
       "      <td>STRAWBERRY CERAMIC TRINKET BOX</td>\n",
       "      <td>24</td>\n",
       "      <td>2009-12-01 07:45:00</td>\n",
       "      <td>1.25</td>\n",
       "      <td>13085.0</td>\n",
       "      <td>United Kingdom</td>\n",
       "    </tr>\n",
       "    <tr>\n",
       "      <th>...</th>\n",
       "      <td>...</td>\n",
       "      <td>...</td>\n",
       "      <td>...</td>\n",
       "      <td>...</td>\n",
       "      <td>...</td>\n",
       "      <td>...</td>\n",
       "      <td>...</td>\n",
       "      <td>...</td>\n",
       "    </tr>\n",
       "    <tr>\n",
       "      <th>1067366</th>\n",
       "      <td>581587</td>\n",
       "      <td>22899</td>\n",
       "      <td>CHILDREN'S APRON DOLLY GIRL</td>\n",
       "      <td>6</td>\n",
       "      <td>2011-12-09 12:50:00</td>\n",
       "      <td>2.10</td>\n",
       "      <td>12680.0</td>\n",
       "      <td>France</td>\n",
       "    </tr>\n",
       "    <tr>\n",
       "      <th>1067367</th>\n",
       "      <td>581587</td>\n",
       "      <td>23254</td>\n",
       "      <td>CHILDRENS CUTLERY DOLLY GIRL</td>\n",
       "      <td>4</td>\n",
       "      <td>2011-12-09 12:50:00</td>\n",
       "      <td>4.15</td>\n",
       "      <td>12680.0</td>\n",
       "      <td>France</td>\n",
       "    </tr>\n",
       "    <tr>\n",
       "      <th>1067368</th>\n",
       "      <td>581587</td>\n",
       "      <td>23255</td>\n",
       "      <td>CHILDRENS CUTLERY CIRCUS PARADE</td>\n",
       "      <td>4</td>\n",
       "      <td>2011-12-09 12:50:00</td>\n",
       "      <td>4.15</td>\n",
       "      <td>12680.0</td>\n",
       "      <td>France</td>\n",
       "    </tr>\n",
       "    <tr>\n",
       "      <th>1067369</th>\n",
       "      <td>581587</td>\n",
       "      <td>22138</td>\n",
       "      <td>BAKING SET 9 PIECE RETROSPOT</td>\n",
       "      <td>3</td>\n",
       "      <td>2011-12-09 12:50:00</td>\n",
       "      <td>4.95</td>\n",
       "      <td>12680.0</td>\n",
       "      <td>France</td>\n",
       "    </tr>\n",
       "    <tr>\n",
       "      <th>1067370</th>\n",
       "      <td>581587</td>\n",
       "      <td>POST</td>\n",
       "      <td>POSTAGE</td>\n",
       "      <td>1</td>\n",
       "      <td>2011-12-09 12:50:00</td>\n",
       "      <td>18.00</td>\n",
       "      <td>12680.0</td>\n",
       "      <td>France</td>\n",
       "    </tr>\n",
       "  </tbody>\n",
       "</table>\n",
       "<p>1067371 rows × 8 columns</p>\n",
       "</div>"
      ],
      "text/plain": [
       "        Invoice StockCode                          Description  Quantity  \\\n",
       "0        489434     85048  15CM CHRISTMAS GLASS BALL 20 LIGHTS        12   \n",
       "1        489434    79323P                   PINK CHERRY LIGHTS        12   \n",
       "2        489434    79323W                  WHITE CHERRY LIGHTS        12   \n",
       "3        489434     22041         RECORD FRAME 7\" SINGLE SIZE         48   \n",
       "4        489434     21232       STRAWBERRY CERAMIC TRINKET BOX        24   \n",
       "...         ...       ...                                  ...       ...   \n",
       "1067366  581587     22899         CHILDREN'S APRON DOLLY GIRL          6   \n",
       "1067367  581587     23254        CHILDRENS CUTLERY DOLLY GIRL          4   \n",
       "1067368  581587     23255      CHILDRENS CUTLERY CIRCUS PARADE         4   \n",
       "1067369  581587     22138        BAKING SET 9 PIECE RETROSPOT          3   \n",
       "1067370  581587      POST                              POSTAGE         1   \n",
       "\n",
       "                 InvoiceDate  Price  Customer ID         Country  \n",
       "0        2009-12-01 07:45:00   6.95      13085.0  United Kingdom  \n",
       "1        2009-12-01 07:45:00   6.75      13085.0  United Kingdom  \n",
       "2        2009-12-01 07:45:00   6.75      13085.0  United Kingdom  \n",
       "3        2009-12-01 07:45:00   2.10      13085.0  United Kingdom  \n",
       "4        2009-12-01 07:45:00   1.25      13085.0  United Kingdom  \n",
       "...                      ...    ...          ...             ...  \n",
       "1067366  2011-12-09 12:50:00   2.10      12680.0          France  \n",
       "1067367  2011-12-09 12:50:00   4.15      12680.0          France  \n",
       "1067368  2011-12-09 12:50:00   4.15      12680.0          France  \n",
       "1067369  2011-12-09 12:50:00   4.95      12680.0          France  \n",
       "1067370  2011-12-09 12:50:00  18.00      12680.0          France  \n",
       "\n",
       "[1067371 rows x 8 columns]"
      ]
     },
     "execution_count": 2,
     "metadata": {},
     "output_type": "execute_result"
    }
   ],
   "source": [
    "df= pd.read_csv(\"online_retail_II.csv\")\n",
    "df"
   ]
  },
  {
   "cell_type": "markdown",
   "id": "4f5f77df",
   "metadata": {},
   "source": [
    "# Exploratory Data Analysis and Preprocessing"
   ]
  },
  {
   "cell_type": "code",
   "execution_count": 3,
   "id": "9f9e7e6a",
   "metadata": {},
   "outputs": [
    {
     "data": {
      "text/plain": [
       "(1067371, 8)"
      ]
     },
     "execution_count": 3,
     "metadata": {},
     "output_type": "execute_result"
    }
   ],
   "source": [
    "df.shape"
   ]
  },
  {
   "cell_type": "code",
   "execution_count": 4,
   "id": "329bb82c",
   "metadata": {
    "scrolled": true
   },
   "outputs": [
    {
     "name": "stdout",
     "output_type": "stream",
     "text": [
      "<class 'pandas.core.frame.DataFrame'>\n",
      "RangeIndex: 1067371 entries, 0 to 1067370\n",
      "Data columns (total 8 columns):\n",
      " #   Column       Non-Null Count    Dtype  \n",
      "---  ------       --------------    -----  \n",
      " 0   Invoice      1067371 non-null  object \n",
      " 1   StockCode    1067371 non-null  object \n",
      " 2   Description  1062989 non-null  object \n",
      " 3   Quantity     1067371 non-null  int64  \n",
      " 4   InvoiceDate  1067371 non-null  object \n",
      " 5   Price        1067371 non-null  float64\n",
      " 6   Customer ID  824364 non-null   float64\n",
      " 7   Country      1067371 non-null  object \n",
      "dtypes: float64(2), int64(1), object(5)\n",
      "memory usage: 65.1+ MB\n"
     ]
    }
   ],
   "source": [
    "df.info()"
   ]
  },
  {
   "cell_type": "markdown",
   "id": "d550c64a",
   "metadata": {},
   "source": [
    "Checking null data..."
   ]
  },
  {
   "cell_type": "code",
   "execution_count": 5,
   "id": "44c94379",
   "metadata": {},
   "outputs": [
    {
     "data": {
      "text/plain": [
       "Invoice             0\n",
       "StockCode           0\n",
       "Description      4382\n",
       "Quantity            0\n",
       "InvoiceDate         0\n",
       "Price               0\n",
       "Customer ID    243007\n",
       "Country             0\n",
       "dtype: int64"
      ]
     },
     "execution_count": 5,
     "metadata": {},
     "output_type": "execute_result"
    }
   ],
   "source": [
    "df.isnull().sum()"
   ]
  },
  {
   "cell_type": "code",
   "execution_count": 6,
   "id": "7476a66d",
   "metadata": {},
   "outputs": [],
   "source": [
    "#Let's drop the rows containing NaN\n",
    "df.dropna(inplace=True)"
   ]
  },
  {
   "cell_type": "markdown",
   "id": "0afaf92a",
   "metadata": {},
   "source": [
    "Checking duplicate rows..."
   ]
  },
  {
   "cell_type": "code",
   "execution_count": 7,
   "id": "bdb0eae2",
   "metadata": {},
   "outputs": [
    {
     "data": {
      "text/html": [
       "<div>\n",
       "<style scoped>\n",
       "    .dataframe tbody tr th:only-of-type {\n",
       "        vertical-align: middle;\n",
       "    }\n",
       "\n",
       "    .dataframe tbody tr th {\n",
       "        vertical-align: top;\n",
       "    }\n",
       "\n",
       "    .dataframe thead th {\n",
       "        text-align: right;\n",
       "    }\n",
       "</style>\n",
       "<table border=\"1\" class=\"dataframe\">\n",
       "  <thead>\n",
       "    <tr style=\"text-align: right;\">\n",
       "      <th></th>\n",
       "      <th>Invoice</th>\n",
       "      <th>StockCode</th>\n",
       "      <th>Description</th>\n",
       "      <th>Quantity</th>\n",
       "      <th>InvoiceDate</th>\n",
       "      <th>Price</th>\n",
       "      <th>Customer ID</th>\n",
       "      <th>Country</th>\n",
       "    </tr>\n",
       "  </thead>\n",
       "  <tbody>\n",
       "    <tr>\n",
       "      <th>371</th>\n",
       "      <td>489517</td>\n",
       "      <td>21912</td>\n",
       "      <td>VINTAGE SNAKES &amp; LADDERS</td>\n",
       "      <td>1</td>\n",
       "      <td>2009-12-01 11:34:00</td>\n",
       "      <td>3.75</td>\n",
       "      <td>16329.0</td>\n",
       "      <td>United Kingdom</td>\n",
       "    </tr>\n",
       "    <tr>\n",
       "      <th>383</th>\n",
       "      <td>489517</td>\n",
       "      <td>22130</td>\n",
       "      <td>PARTY CONE CHRISTMAS DECORATION</td>\n",
       "      <td>6</td>\n",
       "      <td>2009-12-01 11:34:00</td>\n",
       "      <td>0.85</td>\n",
       "      <td>16329.0</td>\n",
       "      <td>United Kingdom</td>\n",
       "    </tr>\n",
       "    <tr>\n",
       "      <th>384</th>\n",
       "      <td>489517</td>\n",
       "      <td>22319</td>\n",
       "      <td>HAIRCLIPS FORTIES FABRIC ASSORTED</td>\n",
       "      <td>12</td>\n",
       "      <td>2009-12-01 11:34:00</td>\n",
       "      <td>0.65</td>\n",
       "      <td>16329.0</td>\n",
       "      <td>United Kingdom</td>\n",
       "    </tr>\n",
       "    <tr>\n",
       "      <th>385</th>\n",
       "      <td>489517</td>\n",
       "      <td>21913</td>\n",
       "      <td>VINTAGE SEASIDE JIGSAW PUZZLES</td>\n",
       "      <td>1</td>\n",
       "      <td>2009-12-01 11:34:00</td>\n",
       "      <td>3.75</td>\n",
       "      <td>16329.0</td>\n",
       "      <td>United Kingdom</td>\n",
       "    </tr>\n",
       "    <tr>\n",
       "      <th>386</th>\n",
       "      <td>489517</td>\n",
       "      <td>21821</td>\n",
       "      <td>GLITTER STAR GARLAND WITH BELLS</td>\n",
       "      <td>1</td>\n",
       "      <td>2009-12-01 11:34:00</td>\n",
       "      <td>3.75</td>\n",
       "      <td>16329.0</td>\n",
       "      <td>United Kingdom</td>\n",
       "    </tr>\n",
       "    <tr>\n",
       "      <th>...</th>\n",
       "      <td>...</td>\n",
       "      <td>...</td>\n",
       "      <td>...</td>\n",
       "      <td>...</td>\n",
       "      <td>...</td>\n",
       "      <td>...</td>\n",
       "      <td>...</td>\n",
       "      <td>...</td>\n",
       "    </tr>\n",
       "    <tr>\n",
       "      <th>1067136</th>\n",
       "      <td>581538</td>\n",
       "      <td>22068</td>\n",
       "      <td>BLACK PIRATE TREASURE CHEST</td>\n",
       "      <td>1</td>\n",
       "      <td>2011-12-09 11:34:00</td>\n",
       "      <td>0.39</td>\n",
       "      <td>14446.0</td>\n",
       "      <td>United Kingdom</td>\n",
       "    </tr>\n",
       "    <tr>\n",
       "      <th>1067150</th>\n",
       "      <td>581538</td>\n",
       "      <td>23318</td>\n",
       "      <td>BOX OF 6 MINI VINTAGE CRACKERS</td>\n",
       "      <td>1</td>\n",
       "      <td>2011-12-09 11:34:00</td>\n",
       "      <td>2.49</td>\n",
       "      <td>14446.0</td>\n",
       "      <td>United Kingdom</td>\n",
       "    </tr>\n",
       "    <tr>\n",
       "      <th>1067153</th>\n",
       "      <td>581538</td>\n",
       "      <td>22992</td>\n",
       "      <td>REVOLVER WOODEN RULER</td>\n",
       "      <td>1</td>\n",
       "      <td>2011-12-09 11:34:00</td>\n",
       "      <td>1.95</td>\n",
       "      <td>14446.0</td>\n",
       "      <td>United Kingdom</td>\n",
       "    </tr>\n",
       "    <tr>\n",
       "      <th>1067160</th>\n",
       "      <td>581538</td>\n",
       "      <td>22694</td>\n",
       "      <td>WICKER STAR</td>\n",
       "      <td>1</td>\n",
       "      <td>2011-12-09 11:34:00</td>\n",
       "      <td>2.10</td>\n",
       "      <td>14446.0</td>\n",
       "      <td>United Kingdom</td>\n",
       "    </tr>\n",
       "    <tr>\n",
       "      <th>1067162</th>\n",
       "      <td>581538</td>\n",
       "      <td>23343</td>\n",
       "      <td>JUMBO BAG VINTAGE CHRISTMAS</td>\n",
       "      <td>1</td>\n",
       "      <td>2011-12-09 11:34:00</td>\n",
       "      <td>2.08</td>\n",
       "      <td>14446.0</td>\n",
       "      <td>United Kingdom</td>\n",
       "    </tr>\n",
       "  </tbody>\n",
       "</table>\n",
       "<p>26479 rows × 8 columns</p>\n",
       "</div>"
      ],
      "text/plain": [
       "        Invoice StockCode                        Description  Quantity  \\\n",
       "371      489517     21912           VINTAGE SNAKES & LADDERS         1   \n",
       "383      489517     22130   PARTY CONE CHRISTMAS DECORATION          6   \n",
       "384      489517     22319  HAIRCLIPS FORTIES FABRIC ASSORTED        12   \n",
       "385      489517     21913     VINTAGE SEASIDE JIGSAW PUZZLES         1   \n",
       "386      489517     21821   GLITTER STAR GARLAND WITH BELLS          1   \n",
       "...         ...       ...                                ...       ...   \n",
       "1067136  581538     22068        BLACK PIRATE TREASURE CHEST         1   \n",
       "1067150  581538     23318     BOX OF 6 MINI VINTAGE CRACKERS         1   \n",
       "1067153  581538     22992             REVOLVER WOODEN RULER          1   \n",
       "1067160  581538     22694                       WICKER STAR          1   \n",
       "1067162  581538     23343       JUMBO BAG VINTAGE CHRISTMAS          1   \n",
       "\n",
       "                 InvoiceDate  Price  Customer ID         Country  \n",
       "371      2009-12-01 11:34:00   3.75      16329.0  United Kingdom  \n",
       "383      2009-12-01 11:34:00   0.85      16329.0  United Kingdom  \n",
       "384      2009-12-01 11:34:00   0.65      16329.0  United Kingdom  \n",
       "385      2009-12-01 11:34:00   3.75      16329.0  United Kingdom  \n",
       "386      2009-12-01 11:34:00   3.75      16329.0  United Kingdom  \n",
       "...                      ...    ...          ...             ...  \n",
       "1067136  2011-12-09 11:34:00   0.39      14446.0  United Kingdom  \n",
       "1067150  2011-12-09 11:34:00   2.49      14446.0  United Kingdom  \n",
       "1067153  2011-12-09 11:34:00   1.95      14446.0  United Kingdom  \n",
       "1067160  2011-12-09 11:34:00   2.10      14446.0  United Kingdom  \n",
       "1067162  2011-12-09 11:34:00   2.08      14446.0  United Kingdom  \n",
       "\n",
       "[26479 rows x 8 columns]"
      ]
     },
     "execution_count": 7,
     "metadata": {},
     "output_type": "execute_result"
    }
   ],
   "source": [
    "df[df.duplicated()]"
   ]
  },
  {
   "cell_type": "code",
   "execution_count": 8,
   "id": "daef566f",
   "metadata": {},
   "outputs": [
    {
     "data": {
      "text/plain": [
       "26479"
      ]
     },
     "execution_count": 8,
     "metadata": {},
     "output_type": "execute_result"
    }
   ],
   "source": [
    "len(df[df.duplicated()])"
   ]
  },
  {
   "cell_type": "markdown",
   "id": "a236bd8e",
   "metadata": {},
   "source": [
    "There are 26479 duplicate rows, let's drop them:"
   ]
  },
  {
   "cell_type": "code",
   "execution_count": 9,
   "id": "febf8ee6",
   "metadata": {},
   "outputs": [],
   "source": [
    "df.drop(df[df.duplicated()].index, axis=0, inplace=True)"
   ]
  },
  {
   "cell_type": "code",
   "execution_count": 10,
   "id": "3f6fa8d9",
   "metadata": {},
   "outputs": [
    {
     "data": {
      "text/plain": [
       "(797885, 8)"
      ]
     },
     "execution_count": 10,
     "metadata": {},
     "output_type": "execute_result"
    }
   ],
   "source": [
    "df.shape"
   ]
  },
  {
   "cell_type": "code",
   "execution_count": 11,
   "id": "968a4868",
   "metadata": {},
   "outputs": [
    {
     "name": "stdout",
     "output_type": "stream",
     "text": [
      "<class 'pandas.core.frame.DataFrame'>\n",
      "Int64Index: 797885 entries, 0 to 1067370\n",
      "Data columns (total 8 columns):\n",
      " #   Column       Non-Null Count   Dtype  \n",
      "---  ------       --------------   -----  \n",
      " 0   Invoice      797885 non-null  object \n",
      " 1   StockCode    797885 non-null  object \n",
      " 2   Description  797885 non-null  object \n",
      " 3   Quantity     797885 non-null  int64  \n",
      " 4   InvoiceDate  797885 non-null  object \n",
      " 5   Price        797885 non-null  float64\n",
      " 6   Customer ID  797885 non-null  float64\n",
      " 7   Country      797885 non-null  object \n",
      "dtypes: float64(2), int64(1), object(5)\n",
      "memory usage: 54.8+ MB\n"
     ]
    }
   ],
   "source": [
    "# no \"NULL\" and \"duplicate\" data\n",
    "df.info()"
   ]
  },
  {
   "cell_type": "code",
   "execution_count": 12,
   "id": "57122732",
   "metadata": {
    "scrolled": true
   },
   "outputs": [
    {
     "data": {
      "text/html": [
       "<div>\n",
       "<style scoped>\n",
       "    .dataframe tbody tr th:only-of-type {\n",
       "        vertical-align: middle;\n",
       "    }\n",
       "\n",
       "    .dataframe tbody tr th {\n",
       "        vertical-align: top;\n",
       "    }\n",
       "\n",
       "    .dataframe thead th {\n",
       "        text-align: right;\n",
       "    }\n",
       "</style>\n",
       "<table border=\"1\" class=\"dataframe\">\n",
       "  <thead>\n",
       "    <tr style=\"text-align: right;\">\n",
       "      <th></th>\n",
       "      <th>Invoice</th>\n",
       "      <th>StockCode</th>\n",
       "      <th>Description</th>\n",
       "      <th>Quantity</th>\n",
       "      <th>InvoiceDate</th>\n",
       "      <th>Price</th>\n",
       "      <th>Customer ID</th>\n",
       "      <th>Country</th>\n",
       "    </tr>\n",
       "  </thead>\n",
       "  <tbody>\n",
       "    <tr>\n",
       "      <th>0</th>\n",
       "      <td>489434</td>\n",
       "      <td>85048</td>\n",
       "      <td>15CM CHRISTMAS GLASS BALL 20 LIGHTS</td>\n",
       "      <td>12</td>\n",
       "      <td>2009-12-01 07:45:00</td>\n",
       "      <td>6.95</td>\n",
       "      <td>13085.0</td>\n",
       "      <td>United Kingdom</td>\n",
       "    </tr>\n",
       "    <tr>\n",
       "      <th>1</th>\n",
       "      <td>489434</td>\n",
       "      <td>79323P</td>\n",
       "      <td>PINK CHERRY LIGHTS</td>\n",
       "      <td>12</td>\n",
       "      <td>2009-12-01 07:45:00</td>\n",
       "      <td>6.75</td>\n",
       "      <td>13085.0</td>\n",
       "      <td>United Kingdom</td>\n",
       "    </tr>\n",
       "    <tr>\n",
       "      <th>2</th>\n",
       "      <td>489434</td>\n",
       "      <td>79323W</td>\n",
       "      <td>WHITE CHERRY LIGHTS</td>\n",
       "      <td>12</td>\n",
       "      <td>2009-12-01 07:45:00</td>\n",
       "      <td>6.75</td>\n",
       "      <td>13085.0</td>\n",
       "      <td>United Kingdom</td>\n",
       "    </tr>\n",
       "    <tr>\n",
       "      <th>3</th>\n",
       "      <td>489434</td>\n",
       "      <td>22041</td>\n",
       "      <td>RECORD FRAME 7\" SINGLE SIZE</td>\n",
       "      <td>48</td>\n",
       "      <td>2009-12-01 07:45:00</td>\n",
       "      <td>2.10</td>\n",
       "      <td>13085.0</td>\n",
       "      <td>United Kingdom</td>\n",
       "    </tr>\n",
       "    <tr>\n",
       "      <th>4</th>\n",
       "      <td>489434</td>\n",
       "      <td>21232</td>\n",
       "      <td>STRAWBERRY CERAMIC TRINKET BOX</td>\n",
       "      <td>24</td>\n",
       "      <td>2009-12-01 07:45:00</td>\n",
       "      <td>1.25</td>\n",
       "      <td>13085.0</td>\n",
       "      <td>United Kingdom</td>\n",
       "    </tr>\n",
       "  </tbody>\n",
       "</table>\n",
       "</div>"
      ],
      "text/plain": [
       "  Invoice StockCode                          Description  Quantity  \\\n",
       "0  489434     85048  15CM CHRISTMAS GLASS BALL 20 LIGHTS        12   \n",
       "1  489434    79323P                   PINK CHERRY LIGHTS        12   \n",
       "2  489434    79323W                  WHITE CHERRY LIGHTS        12   \n",
       "3  489434     22041         RECORD FRAME 7\" SINGLE SIZE         48   \n",
       "4  489434     21232       STRAWBERRY CERAMIC TRINKET BOX        24   \n",
       "\n",
       "           InvoiceDate  Price  Customer ID         Country  \n",
       "0  2009-12-01 07:45:00   6.95      13085.0  United Kingdom  \n",
       "1  2009-12-01 07:45:00   6.75      13085.0  United Kingdom  \n",
       "2  2009-12-01 07:45:00   6.75      13085.0  United Kingdom  \n",
       "3  2009-12-01 07:45:00   2.10      13085.0  United Kingdom  \n",
       "4  2009-12-01 07:45:00   1.25      13085.0  United Kingdom  "
      ]
     },
     "execution_count": 12,
     "metadata": {},
     "output_type": "execute_result"
    }
   ],
   "source": [
    "df.head()"
   ]
  },
  {
   "cell_type": "markdown",
   "id": "081e9054",
   "metadata": {},
   "source": [
    "# Handling columns"
   ]
  },
  {
   "cell_type": "markdown",
   "id": "e5fbbfb7",
   "metadata": {},
   "source": [
    "Let's create a new feature: \"TotalPrice\""
   ]
  },
  {
   "cell_type": "code",
   "execution_count": 13,
   "id": "a583ce91",
   "metadata": {},
   "outputs": [],
   "source": [
    "df1= df.copy()\n",
    "df1[\"TotalPrice\"] = df1[\"Quantity\"] * df1[\"Price\"]"
   ]
  },
  {
   "cell_type": "code",
   "execution_count": 14,
   "id": "0e6da707",
   "metadata": {},
   "outputs": [
    {
     "name": "stdout",
     "output_type": "stream",
     "text": [
      "Invoice column, unique values:  ['489434' '489435' '489436' ... '581585' '581586' '581587']\n",
      "************\n",
      "\n",
      "StockCode column, unique values:  ['85048' '79323P' '79323W' ... '23562' '23561' '23843']\n",
      "************\n",
      "\n",
      "Description column, unique values:  ['15CM CHRISTMAS GLASS BALL 20 LIGHTS' 'PINK CHERRY LIGHTS'\n",
      " ' WHITE CHERRY LIGHTS' ... 'SILVER AND BLACK ORBIT NECKLACE'\n",
      " 'CREAM HANGING HEART T-LIGHT HOLDER' 'PAPER CRAFT , LITTLE BIRDIE']\n",
      "************\n",
      "\n",
      "Quantity column, unique values:  [    12     48     24     10     18      3     16      4      2      6\n",
      "      8      1     28     30     60     32     56      9     25     36\n",
      "     20    -12     -6     -4    -24     -3     -2    576    288     27\n",
      "     64    160      5     -1     72     50     54      7    800     11\n",
      "     58    192     96    144    100    180    216     15    240    108\n",
      "     33     90     81    -81    -48     17     -5     40     -8     -9\n",
      "     13     21    120    200    168     19    280    128   -150    -18\n",
      "    -23     80    300    450     14     61    480     -7     46    504\n",
      "     45   4320   5184   4008     22    600    505    500     23     47\n",
      "    432    252     75    -16   -504   -600   -252   -246    -36    360\n",
      "    107     49     42     66    -10     34     52    400     70    936\n",
      "    -32    -60    -96    -50   -120     35    -64   -168    -30    256\n",
      "   1500    320    130   1002     26   1080     29    -13     67    960\n",
      "    864    150    126    468    336   3000    -25     38    208    334\n",
      "    124    125    117   -200     39    -20     55    -11     78   -100\n",
      "    -17   -144     77    350    526     98    112     59     37    -14\n",
      "    408   1440    832    624    204    198    608    224     43     65\n",
      "    720    271     41    264    225    104    163    187    312    164\n",
      "    110   -190    250    -72    284     89    118   -400   6012    866\n",
      "   6144   2040   2520   3888   5280   4800   6768   9312    384     44\n",
      "    -44    132   -132    -27    229     62     82    114    -26    156\n",
      "    -22    460     84   -300    374    190    484    -21  19152   3312\n",
      "   1344   2504   1968    482   4176   2880   6696   1200   1800   1400\n",
      "   4200    696   3360   3200   3040   2700     51  -2504   9456    176\n",
      "    -40    900     53   -192   -240    -15    152    700     74   1008\n",
      "   -432   -108    141    537     88    140    -28    -80     31    205\n",
      "    247    372   2016     87    992  12960  12480  12744   1110   4608\n",
      "   5364    420     68     91    148   1000    640  10000    -74    135\n",
      "     76    840    816    324    -42    648     85   1152    102   -408\n",
      "    -38   -128  -1440    -34    498    768   -288   -204   -160    246\n",
      "     71    516    270    560   -309    392    -19    396    612    322\n",
      "   -500   -280   -140   -250   -156    105    175    136    171  -1200\n",
      "    -69   -312    -51    -49   5000   2500    808   2664   1728    228\n",
      "   2972   1098   1128    276    -41    134    830   -830    210   -210\n",
      "    730    122    293   3500    -98    -99   1056    220    352    -29\n",
      "    -61   2000   -576   -320   -648    248    330   -720     95    -85\n",
      "   -264    235    -90    174    -55   2304   1120    -46    -33    985\n",
      "   3936   2976   4752   1872   1116    567    684    984   1308   2112\n",
      "   2952   4992   2496   3648   1536   1248   1632   7008   7128   3072\n",
      "    444   3744   1104     63    327   -180   -118     97     57    121\n",
      "    394   1920   3960    876    756    672   -324    189   2004   1512\n",
      "    704    760    464    520  -5184  -1248  -1536   -864  -3648  -2496\n",
      "  -4992  -2952  -2112  -1308   -984   -768   -684   -567  -1116   -372\n",
      "   -480  -1872  -4752  -4320  -1104   -960  -4608  -2000  -3744   -444\n",
      "  -3072  -7128  -7008  -1632  -2976  -3936    139    -35    -31    162\n",
      "    448    304    -59   3120   1224   -700    196    201    402    625\n",
      "   1240  -1152   -384    888    -56   -148    512   1944   1960   9360\n",
      "   6336   -270    169    243   -243   2400    213    212  -2400   1680\n",
      "   -248   -256   1584   -212   -213   -110    -82    -68    -45    -37\n",
      "    -65   -129   -117  -9360   1824     69    378    972   1488   1394\n",
      "    272    -47   1296    147    860   1010   1356   1284    186   1930\n",
      "   3114   1300    670  74215 -74215    456    -94   2592    -76    407\n",
      "   3906    -86   -102   2160    342   -624    151    -58   -670  -1300\n",
      "  -1930  -3114    462    492    273   1350    428  -1350    101    227\n",
      "    222    906    552    738   4300    -52   1600    323   1515  -1515\n",
      "    660   -420    188    588   -164    430    701    828    540    291\n",
      "   3186     83     79   -360    -75    109   -121    129    261    348\n",
      "   1900    157    -39    116    968    824   -828   -701    410    236\n",
      "    230   -334   -318   -126   -113     86     93    494     92   1788\n",
      "    744    416    496    306   1878    666    708   1428    852   1412\n",
      "    528   -756   -152    -79    -43    183   -186    -53    -70   1540\n",
      "   -130   -220   -840  -1296     94    255   -468    -66   -112    912\n",
      "   1992    232    630   1020   2100   -162    -67   -276   -184    234\n",
      "    244   -244   -234  12540    115    774    490    388    620   1404\n",
      "    698  80995 -80995]\n",
      "************\n",
      "\n",
      "InvoiceDate column, unique values:  ['2009-12-01 07:45:00' '2009-12-01 07:46:00' '2009-12-01 09:06:00' ...\n",
      " '2011-12-09 12:31:00' '2011-12-09 12:49:00' '2011-12-09 12:50:00']\n",
      "************\n",
      "\n",
      "Price column, unique values:  [  6.95   6.75   2.1  ...  13.35   4.76 224.69]\n",
      "************\n",
      "\n",
      "Customer ID column, unique values:  [13085. 13078. 15362. ... 15520. 13298. 12713.]\n",
      "************\n",
      "\n",
      "Country column, unique values:  ['United Kingdom' 'France' 'USA' 'Belgium' 'Australia' 'EIRE' 'Germany'\n",
      " 'Portugal' 'Japan' 'Denmark' 'Netherlands' 'Poland' 'Spain'\n",
      " 'Channel Islands' 'Italy' 'Cyprus' 'Greece' 'Norway' 'Austria' 'Sweden'\n",
      " 'United Arab Emirates' 'Finland' 'Switzerland' 'Unspecified' 'Nigeria'\n",
      " 'Malta' 'RSA' 'Singapore' 'Bahrain' 'Thailand' 'Israel' 'Lithuania'\n",
      " 'West Indies' 'Korea' 'Brazil' 'Canada' 'Iceland' 'Lebanon'\n",
      " 'Saudi Arabia' 'Czech Republic' 'European Community']\n",
      "************\n",
      "\n",
      "TotalPrice column, unique values:  [ 83.4   81.   100.8  ...  25.08 469.44  66.36]\n",
      "************\n",
      "\n"
     ]
    }
   ],
   "source": [
    "for i in df1.columns:\n",
    "    print(i, \"column, unique values: \", df1[i].unique())\n",
    "    print(\"************\")\n",
    "    print(\"\")"
   ]
  },
  {
   "cell_type": "code",
   "execution_count": 15,
   "id": "ef45a5e7",
   "metadata": {
    "scrolled": true
   },
   "outputs": [
    {
     "name": "stdout",
     "output_type": "stream",
     "text": [
      "Invoice column, unique values:  44876\n",
      "************\n",
      "\n",
      "StockCode column, unique values:  4646\n",
      "************\n",
      "\n",
      "Description column, unique values:  5299\n",
      "************\n",
      "\n",
      "Quantity column, unique values:  643\n",
      "************\n",
      "\n",
      "InvoiceDate column, unique values:  41439\n",
      "************\n",
      "\n",
      "Price column, unique values:  1022\n",
      "************\n",
      "\n",
      "Customer ID column, unique values:  5942\n",
      "************\n",
      "\n",
      "Country column, unique values:  41\n",
      "************\n",
      "\n",
      "TotalPrice column, unique values:  5625\n",
      "************\n",
      "\n"
     ]
    }
   ],
   "source": [
    "for i in df1.columns:\n",
    "    print(i, \"column, unique values: \", df1[i].nunique())\n",
    "    print(\"************\")\n",
    "    print(\"\")"
   ]
  },
  {
   "cell_type": "markdown",
   "id": "c9e471e8",
   "metadata": {},
   "source": [
    "Observed some negative values the Quantity and Price columns.\n",
    "Let's check the value containing 0 in the Quantity and Price columns:"
   ]
  },
  {
   "cell_type": "code",
   "execution_count": 16,
   "id": "14a529d5",
   "metadata": {},
   "outputs": [
    {
     "data": {
      "text/plain": [
       "(797885, 9)"
      ]
     },
     "execution_count": 16,
     "metadata": {},
     "output_type": "execute_result"
    }
   ],
   "source": [
    "df1.shape"
   ]
  },
  {
   "cell_type": "code",
   "execution_count": 17,
   "id": "524710db",
   "metadata": {},
   "outputs": [
    {
     "data": {
      "text/html": [
       "<div>\n",
       "<style scoped>\n",
       "    .dataframe tbody tr th:only-of-type {\n",
       "        vertical-align: middle;\n",
       "    }\n",
       "\n",
       "    .dataframe tbody tr th {\n",
       "        vertical-align: top;\n",
       "    }\n",
       "\n",
       "    .dataframe thead th {\n",
       "        text-align: right;\n",
       "    }\n",
       "</style>\n",
       "<table border=\"1\" class=\"dataframe\">\n",
       "  <thead>\n",
       "    <tr style=\"text-align: right;\">\n",
       "      <th></th>\n",
       "      <th>Invoice</th>\n",
       "      <th>StockCode</th>\n",
       "      <th>Description</th>\n",
       "      <th>Quantity</th>\n",
       "      <th>InvoiceDate</th>\n",
       "      <th>Price</th>\n",
       "      <th>Customer ID</th>\n",
       "      <th>Country</th>\n",
       "      <th>TotalPrice</th>\n",
       "    </tr>\n",
       "  </thead>\n",
       "  <tbody>\n",
       "    <tr>\n",
       "      <th>178</th>\n",
       "      <td>C489449</td>\n",
       "      <td>22087</td>\n",
       "      <td>PAPER BUNTING WHITE LACE</td>\n",
       "      <td>-12</td>\n",
       "      <td>2009-12-01 10:33:00</td>\n",
       "      <td>2.95</td>\n",
       "      <td>16321.0</td>\n",
       "      <td>Australia</td>\n",
       "      <td>-35.40</td>\n",
       "    </tr>\n",
       "    <tr>\n",
       "      <th>179</th>\n",
       "      <td>C489449</td>\n",
       "      <td>85206A</td>\n",
       "      <td>CREAM FELT EASTER EGG BASKET</td>\n",
       "      <td>-6</td>\n",
       "      <td>2009-12-01 10:33:00</td>\n",
       "      <td>1.65</td>\n",
       "      <td>16321.0</td>\n",
       "      <td>Australia</td>\n",
       "      <td>-9.90</td>\n",
       "    </tr>\n",
       "    <tr>\n",
       "      <th>180</th>\n",
       "      <td>C489449</td>\n",
       "      <td>21895</td>\n",
       "      <td>POTTING SHED SOW 'N' GROW SET</td>\n",
       "      <td>-4</td>\n",
       "      <td>2009-12-01 10:33:00</td>\n",
       "      <td>4.25</td>\n",
       "      <td>16321.0</td>\n",
       "      <td>Australia</td>\n",
       "      <td>-17.00</td>\n",
       "    </tr>\n",
       "    <tr>\n",
       "      <th>181</th>\n",
       "      <td>C489449</td>\n",
       "      <td>21896</td>\n",
       "      <td>POTTING SHED TWINE</td>\n",
       "      <td>-6</td>\n",
       "      <td>2009-12-01 10:33:00</td>\n",
       "      <td>2.10</td>\n",
       "      <td>16321.0</td>\n",
       "      <td>Australia</td>\n",
       "      <td>-12.60</td>\n",
       "    </tr>\n",
       "    <tr>\n",
       "      <th>182</th>\n",
       "      <td>C489449</td>\n",
       "      <td>22083</td>\n",
       "      <td>PAPER CHAIN KIT RETRO SPOT</td>\n",
       "      <td>-12</td>\n",
       "      <td>2009-12-01 10:33:00</td>\n",
       "      <td>2.95</td>\n",
       "      <td>16321.0</td>\n",
       "      <td>Australia</td>\n",
       "      <td>-35.40</td>\n",
       "    </tr>\n",
       "    <tr>\n",
       "      <th>...</th>\n",
       "      <td>...</td>\n",
       "      <td>...</td>\n",
       "      <td>...</td>\n",
       "      <td>...</td>\n",
       "      <td>...</td>\n",
       "      <td>...</td>\n",
       "      <td>...</td>\n",
       "      <td>...</td>\n",
       "      <td>...</td>\n",
       "    </tr>\n",
       "    <tr>\n",
       "      <th>1065910</th>\n",
       "      <td>C581490</td>\n",
       "      <td>23144</td>\n",
       "      <td>ZINC T-LIGHT HOLDER STARS SMALL</td>\n",
       "      <td>-11</td>\n",
       "      <td>2011-12-09 09:57:00</td>\n",
       "      <td>0.83</td>\n",
       "      <td>14397.0</td>\n",
       "      <td>United Kingdom</td>\n",
       "      <td>-9.13</td>\n",
       "    </tr>\n",
       "    <tr>\n",
       "      <th>1067002</th>\n",
       "      <td>C581499</td>\n",
       "      <td>M</td>\n",
       "      <td>Manual</td>\n",
       "      <td>-1</td>\n",
       "      <td>2011-12-09 10:28:00</td>\n",
       "      <td>224.69</td>\n",
       "      <td>15498.0</td>\n",
       "      <td>United Kingdom</td>\n",
       "      <td>-224.69</td>\n",
       "    </tr>\n",
       "    <tr>\n",
       "      <th>1067176</th>\n",
       "      <td>C581568</td>\n",
       "      <td>21258</td>\n",
       "      <td>VICTORIAN SEWING BOX LARGE</td>\n",
       "      <td>-5</td>\n",
       "      <td>2011-12-09 11:57:00</td>\n",
       "      <td>10.95</td>\n",
       "      <td>15311.0</td>\n",
       "      <td>United Kingdom</td>\n",
       "      <td>-54.75</td>\n",
       "    </tr>\n",
       "    <tr>\n",
       "      <th>1067177</th>\n",
       "      <td>C581569</td>\n",
       "      <td>84978</td>\n",
       "      <td>HANGING HEART JAR T-LIGHT HOLDER</td>\n",
       "      <td>-1</td>\n",
       "      <td>2011-12-09 11:58:00</td>\n",
       "      <td>1.25</td>\n",
       "      <td>17315.0</td>\n",
       "      <td>United Kingdom</td>\n",
       "      <td>-1.25</td>\n",
       "    </tr>\n",
       "    <tr>\n",
       "      <th>1067178</th>\n",
       "      <td>C581569</td>\n",
       "      <td>20979</td>\n",
       "      <td>36 PENCILS TUBE RED RETROSPOT</td>\n",
       "      <td>-5</td>\n",
       "      <td>2011-12-09 11:58:00</td>\n",
       "      <td>1.25</td>\n",
       "      <td>17315.0</td>\n",
       "      <td>United Kingdom</td>\n",
       "      <td>-6.25</td>\n",
       "    </tr>\n",
       "  </tbody>\n",
       "</table>\n",
       "<p>18460 rows × 9 columns</p>\n",
       "</div>"
      ],
      "text/plain": [
       "         Invoice StockCode                       Description  Quantity  \\\n",
       "178      C489449     22087          PAPER BUNTING WHITE LACE       -12   \n",
       "179      C489449    85206A      CREAM FELT EASTER EGG BASKET        -6   \n",
       "180      C489449     21895     POTTING SHED SOW 'N' GROW SET        -4   \n",
       "181      C489449     21896                POTTING SHED TWINE        -6   \n",
       "182      C489449     22083        PAPER CHAIN KIT RETRO SPOT       -12   \n",
       "...          ...       ...                               ...       ...   \n",
       "1065910  C581490     23144   ZINC T-LIGHT HOLDER STARS SMALL       -11   \n",
       "1067002  C581499         M                            Manual        -1   \n",
       "1067176  C581568     21258        VICTORIAN SEWING BOX LARGE        -5   \n",
       "1067177  C581569     84978  HANGING HEART JAR T-LIGHT HOLDER        -1   \n",
       "1067178  C581569     20979     36 PENCILS TUBE RED RETROSPOT        -5   \n",
       "\n",
       "                 InvoiceDate   Price  Customer ID         Country  TotalPrice  \n",
       "178      2009-12-01 10:33:00    2.95      16321.0       Australia      -35.40  \n",
       "179      2009-12-01 10:33:00    1.65      16321.0       Australia       -9.90  \n",
       "180      2009-12-01 10:33:00    4.25      16321.0       Australia      -17.00  \n",
       "181      2009-12-01 10:33:00    2.10      16321.0       Australia      -12.60  \n",
       "182      2009-12-01 10:33:00    2.95      16321.0       Australia      -35.40  \n",
       "...                      ...     ...          ...             ...         ...  \n",
       "1065910  2011-12-09 09:57:00    0.83      14397.0  United Kingdom       -9.13  \n",
       "1067002  2011-12-09 10:28:00  224.69      15498.0  United Kingdom     -224.69  \n",
       "1067176  2011-12-09 11:57:00   10.95      15311.0  United Kingdom      -54.75  \n",
       "1067177  2011-12-09 11:58:00    1.25      17315.0  United Kingdom       -1.25  \n",
       "1067178  2011-12-09 11:58:00    1.25      17315.0  United Kingdom       -6.25  \n",
       "\n",
       "[18460 rows x 9 columns]"
      ]
     },
     "execution_count": 17,
     "metadata": {},
     "output_type": "execute_result"
    }
   ],
   "source": [
    "df1.loc[(df1[\"Quantity\"]<=0) | (df1[\"Price\"]<=0)]"
   ]
  },
  {
   "cell_type": "markdown",
   "id": "96b7efaf",
   "metadata": {},
   "source": [
    "Let's drop them..."
   ]
  },
  {
   "cell_type": "code",
   "execution_count": 18,
   "id": "4f3f9dee",
   "metadata": {},
   "outputs": [],
   "source": [
    "df2= df1[(df1['Price'] > 0)]"
   ]
  },
  {
   "cell_type": "code",
   "execution_count": 19,
   "id": "b1caf80c",
   "metadata": {},
   "outputs": [],
   "source": [
    "df2= df2[(df2['Quantity'] > 0)]"
   ]
  },
  {
   "cell_type": "code",
   "execution_count": 20,
   "id": "3098d4ba",
   "metadata": {},
   "outputs": [
    {
     "data": {
      "text/plain": [
       "(797885, 9)"
      ]
     },
     "execution_count": 20,
     "metadata": {},
     "output_type": "execute_result"
    }
   ],
   "source": [
    "df1.shape"
   ]
  },
  {
   "cell_type": "code",
   "execution_count": 21,
   "id": "5942af89",
   "metadata": {},
   "outputs": [
    {
     "data": {
      "text/plain": [
       "(779425, 9)"
      ]
     },
     "execution_count": 21,
     "metadata": {},
     "output_type": "execute_result"
    }
   ],
   "source": [
    "df2.shape"
   ]
  },
  {
   "cell_type": "code",
   "execution_count": 22,
   "id": "3a5d965d",
   "metadata": {},
   "outputs": [
    {
     "data": {
      "text/html": [
       "<div>\n",
       "<style scoped>\n",
       "    .dataframe tbody tr th:only-of-type {\n",
       "        vertical-align: middle;\n",
       "    }\n",
       "\n",
       "    .dataframe tbody tr th {\n",
       "        vertical-align: top;\n",
       "    }\n",
       "\n",
       "    .dataframe thead th {\n",
       "        text-align: right;\n",
       "    }\n",
       "</style>\n",
       "<table border=\"1\" class=\"dataframe\">\n",
       "  <thead>\n",
       "    <tr style=\"text-align: right;\">\n",
       "      <th></th>\n",
       "      <th>Invoice</th>\n",
       "      <th>StockCode</th>\n",
       "      <th>Description</th>\n",
       "      <th>Quantity</th>\n",
       "      <th>InvoiceDate</th>\n",
       "      <th>Price</th>\n",
       "      <th>Customer ID</th>\n",
       "      <th>Country</th>\n",
       "      <th>TotalPrice</th>\n",
       "    </tr>\n",
       "  </thead>\n",
       "  <tbody>\n",
       "  </tbody>\n",
       "</table>\n",
       "</div>"
      ],
      "text/plain": [
       "Empty DataFrame\n",
       "Columns: [Invoice, StockCode, Description, Quantity, InvoiceDate, Price, Customer ID, Country, TotalPrice]\n",
       "Index: []"
      ]
     },
     "execution_count": 22,
     "metadata": {},
     "output_type": "execute_result"
    }
   ],
   "source": [
    "df2.loc[(df2[\"Quantity\"]<=0) | (df2[\"Price\"]<=0)]"
   ]
  },
  {
   "cell_type": "markdown",
   "id": "51eabbec",
   "metadata": {},
   "source": [
    "Let's find the non-numeric stock codes:"
   ]
  },
  {
   "cell_type": "code",
   "execution_count": 23,
   "id": "1d77ac17",
   "metadata": {
    "scrolled": true
   },
   "outputs": [
    {
     "data": {
      "text/html": [
       "<div>\n",
       "<style scoped>\n",
       "    .dataframe tbody tr th:only-of-type {\n",
       "        vertical-align: middle;\n",
       "    }\n",
       "\n",
       "    .dataframe tbody tr th {\n",
       "        vertical-align: top;\n",
       "    }\n",
       "\n",
       "    .dataframe thead th {\n",
       "        text-align: right;\n",
       "    }\n",
       "</style>\n",
       "<table border=\"1\" class=\"dataframe\">\n",
       "  <thead>\n",
       "    <tr style=\"text-align: right;\">\n",
       "      <th></th>\n",
       "      <th>StockCode</th>\n",
       "    </tr>\n",
       "    <tr>\n",
       "      <th>StockCode</th>\n",
       "      <th></th>\n",
       "    </tr>\n",
       "  </thead>\n",
       "  <tbody>\n",
       "    <tr>\n",
       "      <th>ADJUST</th>\n",
       "      <td>32</td>\n",
       "    </tr>\n",
       "    <tr>\n",
       "      <th>BANK CHARGES</th>\n",
       "      <td>31</td>\n",
       "    </tr>\n",
       "    <tr>\n",
       "      <th>D</th>\n",
       "      <td>5</td>\n",
       "    </tr>\n",
       "    <tr>\n",
       "      <th>DOT</th>\n",
       "      <td>16</td>\n",
       "    </tr>\n",
       "    <tr>\n",
       "      <th>M</th>\n",
       "      <td>681</td>\n",
       "    </tr>\n",
       "    <tr>\n",
       "      <th>PADS</th>\n",
       "      <td>17</td>\n",
       "    </tr>\n",
       "    <tr>\n",
       "      <th>POST</th>\n",
       "      <td>1803</td>\n",
       "    </tr>\n",
       "  </tbody>\n",
       "</table>\n",
       "</div>"
      ],
      "text/plain": [
       "              StockCode\n",
       "StockCode              \n",
       "ADJUST               32\n",
       "BANK CHARGES         31\n",
       "D                     5\n",
       "DOT                  16\n",
       "M                   681\n",
       "PADS                 17\n",
       "POST               1803"
      ]
     },
     "execution_count": 23,
     "metadata": {},
     "output_type": "execute_result"
    }
   ],
   "source": [
    "# ALL ONLY non-numeric stock codes\n",
    "wrong_stock_codes= df2[df2[\"StockCode\"].astype(str).str.contains(r\"^[a-zA-Z''-'\\s]{1,40}$\")][\"StockCode\"].unique().tolist()\n",
    "df2[df2[\"StockCode\"].isin(wrong_stock_codes)].groupby([\"StockCode\"]).agg({\"StockCode\": \"count\"})"
   ]
  },
  {
   "cell_type": "code",
   "execution_count": 24,
   "id": "07bc2eac",
   "metadata": {
    "scrolled": true
   },
   "outputs": [
    {
     "data": {
      "text/plain": [
       "StockCode    2585\n",
       "dtype: int64"
      ]
     },
     "execution_count": 24,
     "metadata": {},
     "output_type": "execute_result"
    }
   ],
   "source": [
    "#total rows 2585\n",
    "df2[df2[\"StockCode\"].isin(wrong_stock_codes)].groupby([\"StockCode\"]).agg({\"StockCode\": \"count\"}).sum()"
   ]
  },
  {
   "cell_type": "markdown",
   "id": "8df627ab",
   "metadata": {},
   "source": [
    "Let's drop them:"
   ]
  },
  {
   "cell_type": "code",
   "execution_count": 25,
   "id": "35daead7",
   "metadata": {},
   "outputs": [],
   "source": [
    "df2= df2[~df2[\"StockCode\"].isin(wrong_stock_codes)].reset_index(drop=True)"
   ]
  },
  {
   "cell_type": "code",
   "execution_count": 26,
   "id": "1dd6c01b",
   "metadata": {
    "scrolled": true
   },
   "outputs": [
    {
     "data": {
      "text/html": [
       "<div>\n",
       "<style scoped>\n",
       "    .dataframe tbody tr th:only-of-type {\n",
       "        vertical-align: middle;\n",
       "    }\n",
       "\n",
       "    .dataframe tbody tr th {\n",
       "        vertical-align: top;\n",
       "    }\n",
       "\n",
       "    .dataframe thead th {\n",
       "        text-align: right;\n",
       "    }\n",
       "</style>\n",
       "<table border=\"1\" class=\"dataframe\">\n",
       "  <thead>\n",
       "    <tr style=\"text-align: right;\">\n",
       "      <th></th>\n",
       "      <th>StockCode</th>\n",
       "    </tr>\n",
       "    <tr>\n",
       "      <th>StockCode</th>\n",
       "      <th></th>\n",
       "    </tr>\n",
       "  </thead>\n",
       "  <tbody>\n",
       "    <tr>\n",
       "      <th>ADJUST2</th>\n",
       "      <td>3</td>\n",
       "    </tr>\n",
       "    <tr>\n",
       "      <th>TEST001</th>\n",
       "      <td>9</td>\n",
       "    </tr>\n",
       "    <tr>\n",
       "      <th>TEST002</th>\n",
       "      <td>1</td>\n",
       "    </tr>\n",
       "  </tbody>\n",
       "</table>\n",
       "</div>"
      ],
      "text/plain": [
       "           StockCode\n",
       "StockCode           \n",
       "ADJUST2            3\n",
       "TEST001            9\n",
       "TEST002            1"
      ]
     },
     "execution_count": 26,
     "metadata": {},
     "output_type": "execute_result"
    }
   ],
   "source": [
    "# Other non-numeric stock codes\n",
    "wrong_stock_codes2= df2[df2[\"StockCode\"].astype(str).str.contains(r\"[a-zA-Z]{3,}\")][\"StockCode\"].unique().tolist()\n",
    "df2[df2[\"StockCode\"].isin(wrong_stock_codes2)].groupby([\"StockCode\"]).agg({\"StockCode\": \"count\"})"
   ]
  },
  {
   "cell_type": "code",
   "execution_count": 27,
   "id": "8520b9dc",
   "metadata": {
    "scrolled": false
   },
   "outputs": [
    {
     "data": {
      "text/plain": [
       "StockCode    13\n",
       "dtype: int64"
      ]
     },
     "execution_count": 27,
     "metadata": {},
     "output_type": "execute_result"
    }
   ],
   "source": [
    "#total rows 2585\n",
    "df2[df2[\"StockCode\"].isin(wrong_stock_codes2)].groupby([\"StockCode\"]).agg({\"StockCode\": \"count\"}).sum()"
   ]
  },
  {
   "cell_type": "markdown",
   "id": "80037f04",
   "metadata": {},
   "source": [
    "Let's drop them:"
   ]
  },
  {
   "cell_type": "code",
   "execution_count": 28,
   "id": "0821da62",
   "metadata": {},
   "outputs": [],
   "source": [
    "df2= df2[~df2[\"StockCode\"].isin(wrong_stock_codes2)].reset_index(drop=True)"
   ]
  },
  {
   "cell_type": "code",
   "execution_count": 29,
   "id": "26831037",
   "metadata": {
    "scrolled": true
   },
   "outputs": [
    {
     "data": {
      "text/html": [
       "<div>\n",
       "<style scoped>\n",
       "    .dataframe tbody tr th:only-of-type {\n",
       "        vertical-align: middle;\n",
       "    }\n",
       "\n",
       "    .dataframe tbody tr th {\n",
       "        vertical-align: top;\n",
       "    }\n",
       "\n",
       "    .dataframe thead th {\n",
       "        text-align: right;\n",
       "    }\n",
       "</style>\n",
       "<table border=\"1\" class=\"dataframe\">\n",
       "  <thead>\n",
       "    <tr style=\"text-align: right;\">\n",
       "      <th></th>\n",
       "      <th>Invoice</th>\n",
       "      <th>StockCode</th>\n",
       "      <th>Description</th>\n",
       "      <th>Quantity</th>\n",
       "      <th>InvoiceDate</th>\n",
       "      <th>Price</th>\n",
       "      <th>Customer ID</th>\n",
       "      <th>Country</th>\n",
       "      <th>TotalPrice</th>\n",
       "    </tr>\n",
       "  </thead>\n",
       "  <tbody>\n",
       "    <tr>\n",
       "      <th>0</th>\n",
       "      <td>489434</td>\n",
       "      <td>85048</td>\n",
       "      <td>15CM CHRISTMAS GLASS BALL 20 LIGHTS</td>\n",
       "      <td>12</td>\n",
       "      <td>2009-12-01 07:45:00</td>\n",
       "      <td>6.95</td>\n",
       "      <td>13085.0</td>\n",
       "      <td>United Kingdom</td>\n",
       "      <td>83.40</td>\n",
       "    </tr>\n",
       "    <tr>\n",
       "      <th>1</th>\n",
       "      <td>489434</td>\n",
       "      <td>79323P</td>\n",
       "      <td>PINK CHERRY LIGHTS</td>\n",
       "      <td>12</td>\n",
       "      <td>2009-12-01 07:45:00</td>\n",
       "      <td>6.75</td>\n",
       "      <td>13085.0</td>\n",
       "      <td>United Kingdom</td>\n",
       "      <td>81.00</td>\n",
       "    </tr>\n",
       "    <tr>\n",
       "      <th>2</th>\n",
       "      <td>489434</td>\n",
       "      <td>79323W</td>\n",
       "      <td>WHITE CHERRY LIGHTS</td>\n",
       "      <td>12</td>\n",
       "      <td>2009-12-01 07:45:00</td>\n",
       "      <td>6.75</td>\n",
       "      <td>13085.0</td>\n",
       "      <td>United Kingdom</td>\n",
       "      <td>81.00</td>\n",
       "    </tr>\n",
       "    <tr>\n",
       "      <th>3</th>\n",
       "      <td>489434</td>\n",
       "      <td>22041</td>\n",
       "      <td>RECORD FRAME 7\" SINGLE SIZE</td>\n",
       "      <td>48</td>\n",
       "      <td>2009-12-01 07:45:00</td>\n",
       "      <td>2.10</td>\n",
       "      <td>13085.0</td>\n",
       "      <td>United Kingdom</td>\n",
       "      <td>100.80</td>\n",
       "    </tr>\n",
       "    <tr>\n",
       "      <th>4</th>\n",
       "      <td>489434</td>\n",
       "      <td>21232</td>\n",
       "      <td>STRAWBERRY CERAMIC TRINKET BOX</td>\n",
       "      <td>24</td>\n",
       "      <td>2009-12-01 07:45:00</td>\n",
       "      <td>1.25</td>\n",
       "      <td>13085.0</td>\n",
       "      <td>United Kingdom</td>\n",
       "      <td>30.00</td>\n",
       "    </tr>\n",
       "    <tr>\n",
       "      <th>...</th>\n",
       "      <td>...</td>\n",
       "      <td>...</td>\n",
       "      <td>...</td>\n",
       "      <td>...</td>\n",
       "      <td>...</td>\n",
       "      <td>...</td>\n",
       "      <td>...</td>\n",
       "      <td>...</td>\n",
       "      <td>...</td>\n",
       "    </tr>\n",
       "    <tr>\n",
       "      <th>776822</th>\n",
       "      <td>581587</td>\n",
       "      <td>22613</td>\n",
       "      <td>PACK OF 20 SPACEBOY NAPKINS</td>\n",
       "      <td>12</td>\n",
       "      <td>2011-12-09 12:50:00</td>\n",
       "      <td>0.85</td>\n",
       "      <td>12680.0</td>\n",
       "      <td>France</td>\n",
       "      <td>10.20</td>\n",
       "    </tr>\n",
       "    <tr>\n",
       "      <th>776823</th>\n",
       "      <td>581587</td>\n",
       "      <td>22899</td>\n",
       "      <td>CHILDREN'S APRON DOLLY GIRL</td>\n",
       "      <td>6</td>\n",
       "      <td>2011-12-09 12:50:00</td>\n",
       "      <td>2.10</td>\n",
       "      <td>12680.0</td>\n",
       "      <td>France</td>\n",
       "      <td>12.60</td>\n",
       "    </tr>\n",
       "    <tr>\n",
       "      <th>776824</th>\n",
       "      <td>581587</td>\n",
       "      <td>23254</td>\n",
       "      <td>CHILDRENS CUTLERY DOLLY GIRL</td>\n",
       "      <td>4</td>\n",
       "      <td>2011-12-09 12:50:00</td>\n",
       "      <td>4.15</td>\n",
       "      <td>12680.0</td>\n",
       "      <td>France</td>\n",
       "      <td>16.60</td>\n",
       "    </tr>\n",
       "    <tr>\n",
       "      <th>776825</th>\n",
       "      <td>581587</td>\n",
       "      <td>23255</td>\n",
       "      <td>CHILDRENS CUTLERY CIRCUS PARADE</td>\n",
       "      <td>4</td>\n",
       "      <td>2011-12-09 12:50:00</td>\n",
       "      <td>4.15</td>\n",
       "      <td>12680.0</td>\n",
       "      <td>France</td>\n",
       "      <td>16.60</td>\n",
       "    </tr>\n",
       "    <tr>\n",
       "      <th>776826</th>\n",
       "      <td>581587</td>\n",
       "      <td>22138</td>\n",
       "      <td>BAKING SET 9 PIECE RETROSPOT</td>\n",
       "      <td>3</td>\n",
       "      <td>2011-12-09 12:50:00</td>\n",
       "      <td>4.95</td>\n",
       "      <td>12680.0</td>\n",
       "      <td>France</td>\n",
       "      <td>14.85</td>\n",
       "    </tr>\n",
       "  </tbody>\n",
       "</table>\n",
       "<p>776827 rows × 9 columns</p>\n",
       "</div>"
      ],
      "text/plain": [
       "       Invoice StockCode                          Description  Quantity  \\\n",
       "0       489434     85048  15CM CHRISTMAS GLASS BALL 20 LIGHTS        12   \n",
       "1       489434    79323P                   PINK CHERRY LIGHTS        12   \n",
       "2       489434    79323W                  WHITE CHERRY LIGHTS        12   \n",
       "3       489434     22041         RECORD FRAME 7\" SINGLE SIZE         48   \n",
       "4       489434     21232       STRAWBERRY CERAMIC TRINKET BOX        24   \n",
       "...        ...       ...                                  ...       ...   \n",
       "776822  581587     22613          PACK OF 20 SPACEBOY NAPKINS        12   \n",
       "776823  581587     22899         CHILDREN'S APRON DOLLY GIRL          6   \n",
       "776824  581587     23254        CHILDRENS CUTLERY DOLLY GIRL          4   \n",
       "776825  581587     23255      CHILDRENS CUTLERY CIRCUS PARADE         4   \n",
       "776826  581587     22138        BAKING SET 9 PIECE RETROSPOT          3   \n",
       "\n",
       "                InvoiceDate  Price  Customer ID         Country  TotalPrice  \n",
       "0       2009-12-01 07:45:00   6.95      13085.0  United Kingdom       83.40  \n",
       "1       2009-12-01 07:45:00   6.75      13085.0  United Kingdom       81.00  \n",
       "2       2009-12-01 07:45:00   6.75      13085.0  United Kingdom       81.00  \n",
       "3       2009-12-01 07:45:00   2.10      13085.0  United Kingdom      100.80  \n",
       "4       2009-12-01 07:45:00   1.25      13085.0  United Kingdom       30.00  \n",
       "...                     ...    ...          ...             ...         ...  \n",
       "776822  2011-12-09 12:50:00   0.85      12680.0          France       10.20  \n",
       "776823  2011-12-09 12:50:00   2.10      12680.0          France       12.60  \n",
       "776824  2011-12-09 12:50:00   4.15      12680.0          France       16.60  \n",
       "776825  2011-12-09 12:50:00   4.15      12680.0          France       16.60  \n",
       "776826  2011-12-09 12:50:00   4.95      12680.0          France       14.85  \n",
       "\n",
       "[776827 rows x 9 columns]"
      ]
     },
     "execution_count": 29,
     "metadata": {},
     "output_type": "execute_result"
    }
   ],
   "source": [
    "df2"
   ]
  },
  {
   "cell_type": "code",
   "execution_count": 30,
   "id": "a11a35a6",
   "metadata": {},
   "outputs": [
    {
     "name": "stdout",
     "output_type": "stream",
     "text": [
      "<class 'pandas.core.frame.DataFrame'>\n",
      "RangeIndex: 776827 entries, 0 to 776826\n",
      "Data columns (total 9 columns):\n",
      " #   Column       Non-Null Count   Dtype  \n",
      "---  ------       --------------   -----  \n",
      " 0   Invoice      776827 non-null  object \n",
      " 1   StockCode    776827 non-null  object \n",
      " 2   Description  776827 non-null  object \n",
      " 3   Quantity     776827 non-null  int64  \n",
      " 4   InvoiceDate  776827 non-null  object \n",
      " 5   Price        776827 non-null  float64\n",
      " 6   Customer ID  776827 non-null  float64\n",
      " 7   Country      776827 non-null  object \n",
      " 8   TotalPrice   776827 non-null  float64\n",
      "dtypes: float64(3), int64(1), object(5)\n",
      "memory usage: 53.3+ MB\n"
     ]
    }
   ],
   "source": [
    "df2.info()"
   ]
  },
  {
   "cell_type": "markdown",
   "id": "222b9d6b",
   "metadata": {},
   "source": [
    "Let's convert the type of column \"InvoiceDate\" to pandas datetime"
   ]
  },
  {
   "cell_type": "code",
   "execution_count": 31,
   "id": "f84ecda0",
   "metadata": {},
   "outputs": [],
   "source": [
    "df2.InvoiceDate = pd.to_datetime(df2.InvoiceDate)"
   ]
  },
  {
   "cell_type": "code",
   "execution_count": 32,
   "id": "d90ec088",
   "metadata": {},
   "outputs": [
    {
     "name": "stdout",
     "output_type": "stream",
     "text": [
      "<class 'pandas.core.frame.DataFrame'>\n",
      "RangeIndex: 776827 entries, 0 to 776826\n",
      "Data columns (total 9 columns):\n",
      " #   Column       Non-Null Count   Dtype         \n",
      "---  ------       --------------   -----         \n",
      " 0   Invoice      776827 non-null  object        \n",
      " 1   StockCode    776827 non-null  object        \n",
      " 2   Description  776827 non-null  object        \n",
      " 3   Quantity     776827 non-null  int64         \n",
      " 4   InvoiceDate  776827 non-null  datetime64[ns]\n",
      " 5   Price        776827 non-null  float64       \n",
      " 6   Customer ID  776827 non-null  float64       \n",
      " 7   Country      776827 non-null  object        \n",
      " 8   TotalPrice   776827 non-null  float64       \n",
      "dtypes: datetime64[ns](1), float64(3), int64(1), object(4)\n",
      "memory usage: 53.3+ MB\n"
     ]
    }
   ],
   "source": [
    "df2.info()"
   ]
  },
  {
   "cell_type": "code",
   "execution_count": null,
   "id": "8ef6ea72",
   "metadata": {},
   "outputs": [],
   "source": []
  },
  {
   "cell_type": "markdown",
   "id": "9833018a",
   "metadata": {},
   "source": [
    "# Handling Outliers"
   ]
  },
  {
   "cell_type": "markdown",
   "id": "da94dc8c",
   "metadata": {},
   "source": [
    "Outliers in the columns considered:"
   ]
  },
  {
   "cell_type": "code",
   "execution_count": 33,
   "id": "e7bedb3e",
   "metadata": {
    "scrolled": true
   },
   "outputs": [
    {
     "data": {
      "image/png": "[encoded data removed]",
      "text/plain": [
       "<Figure size 432x288 with 1 Axes>"
      ]
     },
     "metadata": {
      "needs_background": "light"
     },
     "output_type": "display_data"
    },
    {
     "data": {
      "image/png": "[encoded data removed]",
      "text/plain": [
       "<Figure size 432x288 with 1 Axes>"
      ]
     },
     "metadata": {
      "needs_background": "light"
     },
     "output_type": "display_data"
    }
   ],
   "source": [
    "for i in [\"Quantity\", \"Price\"]:\n",
    "    plt.figure()\n",
    "    plt.tight_layout()\n",
    "    plt.gca().set(xlabel= i, ylabel='Frequency')\n",
    "    plt.boxplot(df2[i])"
   ]
  },
  {
   "cell_type": "markdown",
   "id": "13c7d07e",
   "metadata": {},
   "source": [
    "Number of outliers in the columns considered:"
   ]
  },
  {
   "cell_type": "code",
   "execution_count": 34,
   "id": "1b2ac3c6",
   "metadata": {},
   "outputs": [],
   "source": [
    "def num_outlier(df_in, col_name):\n",
    "    q1 = df_in[col_name].quantile(0.05)\n",
    "    q3 = df_in[col_name].quantile(0.95)\n",
    "    iqr = q3-q1 #Interquartile range\n",
    "    fence_low  = q1-1.5*iqr\n",
    "    fence_high = q3+1.5*iqr\n",
    "    outliers_df= df_in.loc[(df_in[col_name] < fence_low) | (df_in[col_name] > fence_high)]\n",
    "    return print(\"Number of outliers in {} column: \".format(col_name), len(outliers_df)), print(\"Indexes: \", outliers_df.index)"
   ]
  },
  {
   "cell_type": "code",
   "execution_count": 35,
   "id": "23e43c99",
   "metadata": {
    "scrolled": true
   },
   "outputs": [
    {
     "name": "stdout",
     "output_type": "stream",
     "text": [
      "Number of outliers in Quantity column:  16486\n",
      "Indexes:  Int64Index([   192,    198,    256,    531,    855,    856,    858,    859,\n",
      "               862,    864,\n",
      "            ...\n",
      "            776295, 776363, 776366, 776386, 776476, 776485, 776499, 776626,\n",
      "            776635, 776666],\n",
      "           dtype='int64', length=16486)\n"
     ]
    },
    {
     "data": {
      "text/plain": [
       "(None, None)"
      ]
     },
     "execution_count": 35,
     "metadata": {},
     "output_type": "execute_result"
    }
   ],
   "source": [
    "num_outlier(df2, \"Quantity\")"
   ]
  },
  {
   "cell_type": "code",
   "execution_count": 36,
   "id": "ba86c859",
   "metadata": {
    "scrolled": true
   },
   "outputs": [
    {
     "name": "stdout",
     "output_type": "stream",
     "text": [
      "Number of outliers in Price column:  1598\n",
      "Indexes:  Int64Index([  1200,   1248,   1578,   1618,   1630,   1830,   2547,   2943,\n",
      "              3578,   4660,\n",
      "            ...\n",
      "            768741, 768742, 768797, 768850, 769012, 771153, 772158, 772162,\n",
      "            774716, 775856],\n",
      "           dtype='int64', length=1598)\n"
     ]
    },
    {
     "data": {
      "text/plain": [
       "(None, None)"
      ]
     },
     "execution_count": 36,
     "metadata": {},
     "output_type": "execute_result"
    }
   ],
   "source": [
    "num_outlier(df2, \"Price\")"
   ]
  },
  {
   "cell_type": "markdown",
   "id": "09e0c622",
   "metadata": {},
   "source": [
    "Let's remove them:"
   ]
  },
  {
   "cell_type": "code",
   "execution_count": 37,
   "id": "907d0cd0",
   "metadata": {},
   "outputs": [],
   "source": [
    "def remove_outlier(df_in, col_name):\n",
    "    q1 = df_in[col_name].quantile(0.05)\n",
    "    q3 = df_in[col_name].quantile(0.95)\n",
    "    iqr = q3-q1     \n",
    "    fence_low  = q1-1.5*iqr\n",
    "    fence_high = q3+1.5*iqr\n",
    "    index_outliers= df_in.loc[(df_in[col_name] < fence_low) | (df_in[col_name] > fence_high)].index\n",
    "    df_in= pd.DataFrame(df_in.drop(index_outliers.to_list(), axis=0, inplace=True))\n",
    "    print(\"Outliers in the {} column have been removed\".format(col_name))\n",
    "    return df_in"
   ]
  },
  {
   "cell_type": "code",
   "execution_count": 38,
   "id": "5dc951ac",
   "metadata": {},
   "outputs": [
    {
     "data": {
      "text/plain": [
       "(776827, 9)"
      ]
     },
     "execution_count": 38,
     "metadata": {},
     "output_type": "execute_result"
    }
   ],
   "source": [
    "df2.shape"
   ]
  },
  {
   "cell_type": "code",
   "execution_count": 39,
   "id": "f60b7b45",
   "metadata": {
    "scrolled": false
   },
   "outputs": [
    {
     "name": "stdout",
     "output_type": "stream",
     "text": [
      "Outliers in the Quantity column have been removed\n"
     ]
    },
    {
     "data": {
      "text/html": [
       "<div>\n",
       "<style scoped>\n",
       "    .dataframe tbody tr th:only-of-type {\n",
       "        vertical-align: middle;\n",
       "    }\n",
       "\n",
       "    .dataframe tbody tr th {\n",
       "        vertical-align: top;\n",
       "    }\n",
       "\n",
       "    .dataframe thead th {\n",
       "        text-align: right;\n",
       "    }\n",
       "</style>\n",
       "<table border=\"1\" class=\"dataframe\">\n",
       "  <thead>\n",
       "    <tr style=\"text-align: right;\">\n",
       "      <th></th>\n",
       "    </tr>\n",
       "  </thead>\n",
       "  <tbody>\n",
       "  </tbody>\n",
       "</table>\n",
       "</div>"
      ],
      "text/plain": [
       "Empty DataFrame\n",
       "Columns: []\n",
       "Index: []"
      ]
     },
     "execution_count": 39,
     "metadata": {},
     "output_type": "execute_result"
    }
   ],
   "source": [
    "remove_outlier(df2, \"Quantity\")"
   ]
  },
  {
   "cell_type": "code",
   "execution_count": 40,
   "id": "553d8776",
   "metadata": {},
   "outputs": [
    {
     "data": {
      "text/plain": [
       "(760341, 9)"
      ]
     },
     "execution_count": 40,
     "metadata": {},
     "output_type": "execute_result"
    }
   ],
   "source": [
    "df2.shape"
   ]
  },
  {
   "cell_type": "code",
   "execution_count": 41,
   "id": "199c1aa5",
   "metadata": {},
   "outputs": [
    {
     "name": "stdout",
     "output_type": "stream",
     "text": [
      "Outliers in the Price column have been removed\n"
     ]
    },
    {
     "data": {
      "text/html": [
       "<div>\n",
       "<style scoped>\n",
       "    .dataframe tbody tr th:only-of-type {\n",
       "        vertical-align: middle;\n",
       "    }\n",
       "\n",
       "    .dataframe tbody tr th {\n",
       "        vertical-align: top;\n",
       "    }\n",
       "\n",
       "    .dataframe thead th {\n",
       "        text-align: right;\n",
       "    }\n",
       "</style>\n",
       "<table border=\"1\" class=\"dataframe\">\n",
       "  <thead>\n",
       "    <tr style=\"text-align: right;\">\n",
       "      <th></th>\n",
       "    </tr>\n",
       "  </thead>\n",
       "  <tbody>\n",
       "  </tbody>\n",
       "</table>\n",
       "</div>"
      ],
      "text/plain": [
       "Empty DataFrame\n",
       "Columns: []\n",
       "Index: []"
      ]
     },
     "execution_count": 41,
     "metadata": {},
     "output_type": "execute_result"
    }
   ],
   "source": [
    "remove_outlier(df2, \"Price\")"
   ]
  },
  {
   "cell_type": "code",
   "execution_count": 42,
   "id": "81efec8a",
   "metadata": {},
   "outputs": [
    {
     "data": {
      "text/plain": [
       "(758744, 9)"
      ]
     },
     "execution_count": 42,
     "metadata": {},
     "output_type": "execute_result"
    }
   ],
   "source": [
    "df2.shape"
   ]
  },
  {
   "cell_type": "code",
   "execution_count": 43,
   "id": "8a5decc6",
   "metadata": {},
   "outputs": [
    {
     "name": "stdout",
     "output_type": "stream",
     "text": [
      "<class 'pandas.core.frame.DataFrame'>\n",
      "Int64Index: 758744 entries, 0 to 776826\n",
      "Data columns (total 9 columns):\n",
      " #   Column       Non-Null Count   Dtype         \n",
      "---  ------       --------------   -----         \n",
      " 0   Invoice      758744 non-null  object        \n",
      " 1   StockCode    758744 non-null  object        \n",
      " 2   Description  758744 non-null  object        \n",
      " 3   Quantity     758744 non-null  int64         \n",
      " 4   InvoiceDate  758744 non-null  datetime64[ns]\n",
      " 5   Price        758744 non-null  float64       \n",
      " 6   Customer ID  758744 non-null  float64       \n",
      " 7   Country      758744 non-null  object        \n",
      " 8   TotalPrice   758744 non-null  float64       \n",
      "dtypes: datetime64[ns](1), float64(3), int64(1), object(4)\n",
      "memory usage: 57.9+ MB\n"
     ]
    }
   ],
   "source": [
    "df2.info()"
   ]
  },
  {
   "cell_type": "markdown",
   "id": "b5ec276d",
   "metadata": {},
   "source": [
    "## RFM Analysis (recency, frequency, monetary)"
   ]
  },
  {
   "cell_type": "markdown",
   "id": "7a314d12",
   "metadata": {},
   "source": [
    "RFM analysis is a marketing technique used to quantitatively rank and group customers based on the recency, frequency and monetary total of their recent transactions to identify the best customers and perform targeted marketing campaigns. The system assigns each customer numerical scores based on these factors to provide an objective analysis. RFM analysis is based on the marketing adage that \"80% of your business comes from 20% of your customers.\"\n",
    "\n",
    "RFM analysis ranks each customer on the following factors:\n",
    "\n",
    "**Recency**. How recent was the customer's last purchase? Customers who recently made a purchase will still have the product on their mind and are more likely to purchase or use the product again. Businesses often measure recency in days. But, depending on the product, they may measure it in years, weeks or even hours.\n",
    "\n",
    "**Frequency**. How often did this customer make a purchase in a given period? Customers who purchased once are often are more likely to purchase again. Additionally, first time customers may be good targets for follow-up advertising to convert them into more frequent customers.\n",
    "\n",
    "**Monetary**. How much money did the customer spend in a given period? Customers who spend a lot of money are more likely to spend money in the future and have a high value to a business.\n",
    "\n",
    "Source: https://www.techtarget.com/searchdatamanagement/definition/RFM-analysis"
   ]
  },
  {
   "cell_type": "code",
   "execution_count": 44,
   "id": "09f00cc7",
   "metadata": {
    "scrolled": true
   },
   "outputs": [
    {
     "name": "stdout",
     "output_type": "stream",
     "text": [
      "Latest date in dataset:  2011-12-09 12:50:00\n"
     ]
    }
   ],
   "source": [
    "print(\"Latest date in dataset: \", df2[\"InvoiceDate\"].max())"
   ]
  },
  {
   "cell_type": "markdown",
   "id": "c1f559c3",
   "metadata": {},
   "source": [
    "Let's determine current date (3 days after the last date):"
   ]
  },
  {
   "cell_type": "code",
   "execution_count": 45,
   "id": "44381862",
   "metadata": {},
   "outputs": [
    {
     "data": {
      "text/plain": [
       "Timestamp('2011-12-12 12:50:00')"
      ]
     },
     "execution_count": 45,
     "metadata": {},
     "output_type": "execute_result"
    }
   ],
   "source": [
    "current_date = df2[\"InvoiceDate\"].max() + dt.timedelta(days=3)\n",
    "current_date"
   ]
  },
  {
   "cell_type": "code",
   "execution_count": 46,
   "id": "1a3d8852",
   "metadata": {},
   "outputs": [
    {
     "data": {
      "text/html": [
       "<div>\n",
       "<style scoped>\n",
       "    .dataframe tbody tr th:only-of-type {\n",
       "        vertical-align: middle;\n",
       "    }\n",
       "\n",
       "    .dataframe tbody tr th {\n",
       "        vertical-align: top;\n",
       "    }\n",
       "\n",
       "    .dataframe thead th {\n",
       "        text-align: right;\n",
       "    }\n",
       "</style>\n",
       "<table border=\"1\" class=\"dataframe\">\n",
       "  <thead>\n",
       "    <tr style=\"text-align: right;\">\n",
       "      <th></th>\n",
       "      <th>InvoiceDate</th>\n",
       "      <th>Invoice</th>\n",
       "      <th>TotalPrice</th>\n",
       "    </tr>\n",
       "    <tr>\n",
       "      <th>Customer ID</th>\n",
       "      <th></th>\n",
       "      <th></th>\n",
       "      <th></th>\n",
       "    </tr>\n",
       "  </thead>\n",
       "  <tbody>\n",
       "    <tr>\n",
       "      <th>12346.0</th>\n",
       "      <td>531</td>\n",
       "      <td>2</td>\n",
       "      <td>169.36</td>\n",
       "    </tr>\n",
       "    <tr>\n",
       "      <th>12347.0</th>\n",
       "      <td>4</td>\n",
       "      <td>8</td>\n",
       "      <td>4671.93</td>\n",
       "    </tr>\n",
       "    <tr>\n",
       "      <th>12348.0</th>\n",
       "      <td>251</td>\n",
       "      <td>4</td>\n",
       "      <td>816.24</td>\n",
       "    </tr>\n",
       "    <tr>\n",
       "      <th>12349.0</th>\n",
       "      <td>21</td>\n",
       "      <td>3</td>\n",
       "      <td>3498.94</td>\n",
       "    </tr>\n",
       "    <tr>\n",
       "      <th>12350.0</th>\n",
       "      <td>312</td>\n",
       "      <td>1</td>\n",
       "      <td>294.40</td>\n",
       "    </tr>\n",
       "  </tbody>\n",
       "</table>\n",
       "</div>"
      ],
      "text/plain": [
       "             InvoiceDate  Invoice  TotalPrice\n",
       "Customer ID                                  \n",
       "12346.0              531        2      169.36\n",
       "12347.0                4        8     4671.93\n",
       "12348.0              251        4      816.24\n",
       "12349.0               21        3     3498.94\n",
       "12350.0              312        1      294.40"
      ]
     },
     "execution_count": 46,
     "metadata": {},
     "output_type": "execute_result"
    }
   ],
   "source": [
    "RFM= df2.groupby('Customer ID').agg({'InvoiceDate': lambda InvoiceDate: (current_date - InvoiceDate.max()).days, #recency\n",
    "                                     'Invoice':     lambda Invoice: Invoice.nunique(), #frequency\n",
    "                                     'TotalPrice':  lambda TotalPrice: TotalPrice.sum()}) #monetary\n",
    "\n",
    "RFM.head()"
   ]
  },
  {
   "cell_type": "markdown",
   "id": "093b7e4f",
   "metadata": {},
   "source": [
    "Let's change column names in RFM data frame"
   ]
  },
  {
   "cell_type": "code",
   "execution_count": 47,
   "id": "047b512d",
   "metadata": {},
   "outputs": [],
   "source": [
    "RFM.columns=['recency', 'frequency', 'monetary']"
   ]
  },
  {
   "cell_type": "code",
   "execution_count": 48,
   "id": "7635921d",
   "metadata": {},
   "outputs": [
    {
     "data": {
      "text/html": [
       "<div>\n",
       "<style scoped>\n",
       "    .dataframe tbody tr th:only-of-type {\n",
       "        vertical-align: middle;\n",
       "    }\n",
       "\n",
       "    .dataframe tbody tr th {\n",
       "        vertical-align: top;\n",
       "    }\n",
       "\n",
       "    .dataframe thead th {\n",
       "        text-align: right;\n",
       "    }\n",
       "</style>\n",
       "<table border=\"1\" class=\"dataframe\">\n",
       "  <thead>\n",
       "    <tr style=\"text-align: right;\">\n",
       "      <th></th>\n",
       "      <th>count</th>\n",
       "      <th>mean</th>\n",
       "      <th>std</th>\n",
       "      <th>min</th>\n",
       "      <th>25%</th>\n",
       "      <th>50%</th>\n",
       "      <th>75%</th>\n",
       "      <th>max</th>\n",
       "    </tr>\n",
       "  </thead>\n",
       "  <tbody>\n",
       "    <tr>\n",
       "      <th>recency</th>\n",
       "      <td>5771.0</td>\n",
       "      <td>202.287818</td>\n",
       "      <td>208.614515</td>\n",
       "      <td>3.0</td>\n",
       "      <td>28.0</td>\n",
       "      <td>97.00</td>\n",
       "      <td>381.000</td>\n",
       "      <td>741.00</td>\n",
       "    </tr>\n",
       "    <tr>\n",
       "      <th>frequency</th>\n",
       "      <td>5771.0</td>\n",
       "      <td>6.110379</td>\n",
       "      <td>12.178700</td>\n",
       "      <td>1.0</td>\n",
       "      <td>1.0</td>\n",
       "      <td>3.00</td>\n",
       "      <td>7.000</td>\n",
       "      <td>371.00</td>\n",
       "    </tr>\n",
       "    <tr>\n",
       "      <th>monetary</th>\n",
       "      <td>5771.0</td>\n",
       "      <td>2186.286394</td>\n",
       "      <td>6279.169151</td>\n",
       "      <td>2.9</td>\n",
       "      <td>321.6</td>\n",
       "      <td>798.33</td>\n",
       "      <td>2052.935</td>\n",
       "      <td>254323.06</td>\n",
       "    </tr>\n",
       "  </tbody>\n",
       "</table>\n",
       "</div>"
      ],
      "text/plain": [
       "            count         mean          std  min    25%     50%       75%  \\\n",
       "recency    5771.0   202.287818   208.614515  3.0   28.0   97.00   381.000   \n",
       "frequency  5771.0     6.110379    12.178700  1.0    1.0    3.00     7.000   \n",
       "monetary   5771.0  2186.286394  6279.169151  2.9  321.6  798.33  2052.935   \n",
       "\n",
       "                 max  \n",
       "recency       741.00  \n",
       "frequency     371.00  \n",
       "monetary   254323.06  "
      ]
     },
     "execution_count": 48,
     "metadata": {},
     "output_type": "execute_result"
    }
   ],
   "source": [
    "RFM.describe().T"
   ]
  },
  {
   "cell_type": "code",
   "execution_count": 49,
   "id": "e207254a",
   "metadata": {},
   "outputs": [
    {
     "data": {
      "text/plain": [
       "(5771, 3)"
      ]
     },
     "execution_count": 49,
     "metadata": {},
     "output_type": "execute_result"
    }
   ],
   "source": [
    "RFM.shape"
   ]
  },
  {
   "cell_type": "markdown",
   "id": "0abf3d9a",
   "metadata": {},
   "source": [
    "There are 5771 customers"
   ]
  },
  {
   "cell_type": "markdown",
   "id": "1e840b0b",
   "metadata": {},
   "source": [
    "## RFM Scores"
   ]
  },
  {
   "cell_type": "code",
   "execution_count": 50,
   "id": "3af31d26",
   "metadata": {},
   "outputs": [],
   "source": [
    "RFM[\"recency_score\"]=   pd.qcut(RFM['recency'], 5, labels=[5, 4, 3, 2, 1])\n",
    "\n",
    "RFM[\"frequency_score\"]= pd.qcut(RFM['frequency'].rank(method=\"first\"), 5, labels=[1, 2, 3, 4, 5])\n",
    "\n",
    "RFM[\"monetary_score\"]=  pd.qcut(RFM['monetary'], 5, labels=[1, 2, 3, 4, 5])"
   ]
  },
  {
   "cell_type": "markdown",
   "id": "1ce38b09",
   "metadata": {},
   "source": [
    "Concatanated RFM scores:"
   ]
  },
  {
   "cell_type": "code",
   "execution_count": 51,
   "id": "2c62ff4d",
   "metadata": {},
   "outputs": [
    {
     "data": {
      "text/html": [
       "<div>\n",
       "<style scoped>\n",
       "    .dataframe tbody tr th:only-of-type {\n",
       "        vertical-align: middle;\n",
       "    }\n",
       "\n",
       "    .dataframe tbody tr th {\n",
       "        vertical-align: top;\n",
       "    }\n",
       "\n",
       "    .dataframe thead th {\n",
       "        text-align: right;\n",
       "    }\n",
       "</style>\n",
       "<table border=\"1\" class=\"dataframe\">\n",
       "  <thead>\n",
       "    <tr style=\"text-align: right;\">\n",
       "      <th></th>\n",
       "      <th>recency</th>\n",
       "      <th>frequency</th>\n",
       "      <th>monetary</th>\n",
       "      <th>recency_score</th>\n",
       "      <th>frequency_score</th>\n",
       "      <th>monetary_score</th>\n",
       "      <th>RFM_SCORE</th>\n",
       "    </tr>\n",
       "    <tr>\n",
       "      <th>Customer ID</th>\n",
       "      <th></th>\n",
       "      <th></th>\n",
       "      <th></th>\n",
       "      <th></th>\n",
       "      <th></th>\n",
       "      <th></th>\n",
       "      <th></th>\n",
       "    </tr>\n",
       "  </thead>\n",
       "  <tbody>\n",
       "    <tr>\n",
       "      <th>12346.0</th>\n",
       "      <td>531</td>\n",
       "      <td>2</td>\n",
       "      <td>169.36</td>\n",
       "      <td>1</td>\n",
       "      <td>2</td>\n",
       "      <td>1</td>\n",
       "      <td>121</td>\n",
       "    </tr>\n",
       "    <tr>\n",
       "      <th>12347.0</th>\n",
       "      <td>4</td>\n",
       "      <td>8</td>\n",
       "      <td>4671.93</td>\n",
       "      <td>5</td>\n",
       "      <td>4</td>\n",
       "      <td>5</td>\n",
       "      <td>545</td>\n",
       "    </tr>\n",
       "    <tr>\n",
       "      <th>12348.0</th>\n",
       "      <td>251</td>\n",
       "      <td>4</td>\n",
       "      <td>816.24</td>\n",
       "      <td>2</td>\n",
       "      <td>3</td>\n",
       "      <td>3</td>\n",
       "      <td>233</td>\n",
       "    </tr>\n",
       "    <tr>\n",
       "      <th>12349.0</th>\n",
       "      <td>21</td>\n",
       "      <td>3</td>\n",
       "      <td>3498.94</td>\n",
       "      <td>5</td>\n",
       "      <td>3</td>\n",
       "      <td>5</td>\n",
       "      <td>535</td>\n",
       "    </tr>\n",
       "    <tr>\n",
       "      <th>12350.0</th>\n",
       "      <td>312</td>\n",
       "      <td>1</td>\n",
       "      <td>294.40</td>\n",
       "      <td>2</td>\n",
       "      <td>1</td>\n",
       "      <td>2</td>\n",
       "      <td>212</td>\n",
       "    </tr>\n",
       "    <tr>\n",
       "      <th>...</th>\n",
       "      <td>...</td>\n",
       "      <td>...</td>\n",
       "      <td>...</td>\n",
       "      <td>...</td>\n",
       "      <td>...</td>\n",
       "      <td>...</td>\n",
       "      <td>...</td>\n",
       "    </tr>\n",
       "    <tr>\n",
       "      <th>18283.0</th>\n",
       "      <td>6</td>\n",
       "      <td>22</td>\n",
       "      <td>2658.95</td>\n",
       "      <td>5</td>\n",
       "      <td>5</td>\n",
       "      <td>5</td>\n",
       "      <td>555</td>\n",
       "    </tr>\n",
       "    <tr>\n",
       "      <th>18284.0</th>\n",
       "      <td>434</td>\n",
       "      <td>1</td>\n",
       "      <td>411.68</td>\n",
       "      <td>1</td>\n",
       "      <td>2</td>\n",
       "      <td>2</td>\n",
       "      <td>122</td>\n",
       "    </tr>\n",
       "    <tr>\n",
       "      <th>18285.0</th>\n",
       "      <td>663</td>\n",
       "      <td>1</td>\n",
       "      <td>377.00</td>\n",
       "      <td>1</td>\n",
       "      <td>2</td>\n",
       "      <td>2</td>\n",
       "      <td>122</td>\n",
       "    </tr>\n",
       "    <tr>\n",
       "      <th>18286.0</th>\n",
       "      <td>479</td>\n",
       "      <td>2</td>\n",
       "      <td>1171.58</td>\n",
       "      <td>1</td>\n",
       "      <td>3</td>\n",
       "      <td>4</td>\n",
       "      <td>134</td>\n",
       "    </tr>\n",
       "    <tr>\n",
       "      <th>18287.0</th>\n",
       "      <td>45</td>\n",
       "      <td>7</td>\n",
       "      <td>4132.99</td>\n",
       "      <td>4</td>\n",
       "      <td>4</td>\n",
       "      <td>5</td>\n",
       "      <td>445</td>\n",
       "    </tr>\n",
       "  </tbody>\n",
       "</table>\n",
       "<p>5771 rows × 7 columns</p>\n",
       "</div>"
      ],
      "text/plain": [
       "             recency  frequency  monetary recency_score frequency_score  \\\n",
       "Customer ID                                                               \n",
       "12346.0          531          2    169.36             1               2   \n",
       "12347.0            4          8   4671.93             5               4   \n",
       "12348.0          251          4    816.24             2               3   \n",
       "12349.0           21          3   3498.94             5               3   \n",
       "12350.0          312          1    294.40             2               1   \n",
       "...              ...        ...       ...           ...             ...   \n",
       "18283.0            6         22   2658.95             5               5   \n",
       "18284.0          434          1    411.68             1               2   \n",
       "18285.0          663          1    377.00             1               2   \n",
       "18286.0          479          2   1171.58             1               3   \n",
       "18287.0           45          7   4132.99             4               4   \n",
       "\n",
       "            monetary_score RFM_SCORE  \n",
       "Customer ID                           \n",
       "12346.0                  1       121  \n",
       "12347.0                  5       545  \n",
       "12348.0                  3       233  \n",
       "12349.0                  5       535  \n",
       "12350.0                  2       212  \n",
       "...                    ...       ...  \n",
       "18283.0                  5       555  \n",
       "18284.0                  2       122  \n",
       "18285.0                  2       122  \n",
       "18286.0                  4       134  \n",
       "18287.0                  5       445  \n",
       "\n",
       "[5771 rows x 7 columns]"
      ]
     },
     "execution_count": 51,
     "metadata": {},
     "output_type": "execute_result"
    }
   ],
   "source": [
    "RFM['RFM_SCORE'] = RFM.recency_score.astype(str)+ RFM.frequency_score.astype(str) + RFM.monetary_score.astype(str)\n",
    "RFM"
   ]
  },
  {
   "cell_type": "code",
   "execution_count": 52,
   "id": "a0fe6386",
   "metadata": {},
   "outputs": [
    {
     "data": {
      "image/png": "[encoded data removed]",
      "text/plain": [
       "<Figure size 864x720 with 3 Axes>"
      ]
     },
     "metadata": {
      "needs_background": "light"
     },
     "output_type": "display_data"
    }
   ],
   "source": [
    "# Plot RFM distributions\n",
    "plt.figure(figsize=(12,10))\n",
    "# Plot distribution of R\n",
    "plt.subplot(3, 1, 1); sns.distplot(RFM['recency'])\n",
    "# Plot distribution of F\n",
    "plt.subplot(3, 1, 2); sns.distplot(RFM['frequency'])\n",
    "# Plot distribution of M\n",
    "plt.subplot(3, 1, 3); sns.distplot(RFM['monetary'])\n",
    "# Show the plot\n",
    "plt.show()"
   ]
  },
  {
   "cell_type": "code",
   "execution_count": 53,
   "id": "4f22007d",
   "metadata": {},
   "outputs": [
    {
     "name": "stdout",
     "output_type": "stream",
     "text": [
      "<class 'pandas.core.frame.DataFrame'>\n",
      "Float64Index: 5771 entries, 12346.0 to 18287.0\n",
      "Data columns (total 7 columns):\n",
      " #   Column           Non-Null Count  Dtype   \n",
      "---  ------           --------------  -----   \n",
      " 0   recency          5771 non-null   int64   \n",
      " 1   frequency        5771 non-null   int64   \n",
      " 2   monetary         5771 non-null   float64 \n",
      " 3   recency_score    5771 non-null   category\n",
      " 4   frequency_score  5771 non-null   category\n",
      " 5   monetary_score   5771 non-null   category\n",
      " 6   RFM_SCORE        5771 non-null   object  \n",
      "dtypes: category(3), float64(1), int64(2), object(1)\n",
      "memory usage: 243.0+ KB\n"
     ]
    }
   ],
   "source": [
    "RFM.info()"
   ]
  },
  {
   "cell_type": "markdown",
   "id": "dfe4b7f0",
   "metadata": {},
   "source": [
    "## Clustering Based on RFM"
   ]
  },
  {
   "cell_type": "code",
   "execution_count": 54,
   "id": "089a00f8",
   "metadata": {},
   "outputs": [
    {
     "data": {
      "text/html": [
       "<div>\n",
       "<style scoped>\n",
       "    .dataframe tbody tr th:only-of-type {\n",
       "        vertical-align: middle;\n",
       "    }\n",
       "\n",
       "    .dataframe tbody tr th {\n",
       "        vertical-align: top;\n",
       "    }\n",
       "\n",
       "    .dataframe thead th {\n",
       "        text-align: right;\n",
       "    }\n",
       "</style>\n",
       "<table border=\"1\" class=\"dataframe\">\n",
       "  <thead>\n",
       "    <tr style=\"text-align: right;\">\n",
       "      <th></th>\n",
       "      <th>recency</th>\n",
       "      <th>frequency</th>\n",
       "      <th>monetary</th>\n",
       "      <th>recency_score</th>\n",
       "      <th>frequency_score</th>\n",
       "      <th>monetary_score</th>\n",
       "      <th>RFM_SCORE</th>\n",
       "    </tr>\n",
       "    <tr>\n",
       "      <th>Customer ID</th>\n",
       "      <th></th>\n",
       "      <th></th>\n",
       "      <th></th>\n",
       "      <th></th>\n",
       "      <th></th>\n",
       "      <th></th>\n",
       "      <th></th>\n",
       "    </tr>\n",
       "  </thead>\n",
       "  <tbody>\n",
       "    <tr>\n",
       "      <th>12346.0</th>\n",
       "      <td>531</td>\n",
       "      <td>2</td>\n",
       "      <td>169.36</td>\n",
       "      <td>1</td>\n",
       "      <td>2</td>\n",
       "      <td>1</td>\n",
       "      <td>121</td>\n",
       "    </tr>\n",
       "    <tr>\n",
       "      <th>12347.0</th>\n",
       "      <td>4</td>\n",
       "      <td>8</td>\n",
       "      <td>4671.93</td>\n",
       "      <td>5</td>\n",
       "      <td>4</td>\n",
       "      <td>5</td>\n",
       "      <td>545</td>\n",
       "    </tr>\n",
       "    <tr>\n",
       "      <th>12348.0</th>\n",
       "      <td>251</td>\n",
       "      <td>4</td>\n",
       "      <td>816.24</td>\n",
       "      <td>2</td>\n",
       "      <td>3</td>\n",
       "      <td>3</td>\n",
       "      <td>233</td>\n",
       "    </tr>\n",
       "    <tr>\n",
       "      <th>12349.0</th>\n",
       "      <td>21</td>\n",
       "      <td>3</td>\n",
       "      <td>3498.94</td>\n",
       "      <td>5</td>\n",
       "      <td>3</td>\n",
       "      <td>5</td>\n",
       "      <td>535</td>\n",
       "    </tr>\n",
       "    <tr>\n",
       "      <th>12350.0</th>\n",
       "      <td>312</td>\n",
       "      <td>1</td>\n",
       "      <td>294.40</td>\n",
       "      <td>2</td>\n",
       "      <td>1</td>\n",
       "      <td>2</td>\n",
       "      <td>212</td>\n",
       "    </tr>\n",
       "    <tr>\n",
       "      <th>...</th>\n",
       "      <td>...</td>\n",
       "      <td>...</td>\n",
       "      <td>...</td>\n",
       "      <td>...</td>\n",
       "      <td>...</td>\n",
       "      <td>...</td>\n",
       "      <td>...</td>\n",
       "    </tr>\n",
       "    <tr>\n",
       "      <th>18283.0</th>\n",
       "      <td>6</td>\n",
       "      <td>22</td>\n",
       "      <td>2658.95</td>\n",
       "      <td>5</td>\n",
       "      <td>5</td>\n",
       "      <td>5</td>\n",
       "      <td>555</td>\n",
       "    </tr>\n",
       "    <tr>\n",
       "      <th>18284.0</th>\n",
       "      <td>434</td>\n",
       "      <td>1</td>\n",
       "      <td>411.68</td>\n",
       "      <td>1</td>\n",
       "      <td>2</td>\n",
       "      <td>2</td>\n",
       "      <td>122</td>\n",
       "    </tr>\n",
       "    <tr>\n",
       "      <th>18285.0</th>\n",
       "      <td>663</td>\n",
       "      <td>1</td>\n",
       "      <td>377.00</td>\n",
       "      <td>1</td>\n",
       "      <td>2</td>\n",
       "      <td>2</td>\n",
       "      <td>122</td>\n",
       "    </tr>\n",
       "    <tr>\n",
       "      <th>18286.0</th>\n",
       "      <td>479</td>\n",
       "      <td>2</td>\n",
       "      <td>1171.58</td>\n",
       "      <td>1</td>\n",
       "      <td>3</td>\n",
       "      <td>4</td>\n",
       "      <td>134</td>\n",
       "    </tr>\n",
       "    <tr>\n",
       "      <th>18287.0</th>\n",
       "      <td>45</td>\n",
       "      <td>7</td>\n",
       "      <td>4132.99</td>\n",
       "      <td>4</td>\n",
       "      <td>4</td>\n",
       "      <td>5</td>\n",
       "      <td>445</td>\n",
       "    </tr>\n",
       "  </tbody>\n",
       "</table>\n",
       "<p>5771 rows × 7 columns</p>\n",
       "</div>"
      ],
      "text/plain": [
       "             recency  frequency  monetary recency_score frequency_score  \\\n",
       "Customer ID                                                               \n",
       "12346.0          531          2    169.36             1               2   \n",
       "12347.0            4          8   4671.93             5               4   \n",
       "12348.0          251          4    816.24             2               3   \n",
       "12349.0           21          3   3498.94             5               3   \n",
       "12350.0          312          1    294.40             2               1   \n",
       "...              ...        ...       ...           ...             ...   \n",
       "18283.0            6         22   2658.95             5               5   \n",
       "18284.0          434          1    411.68             1               2   \n",
       "18285.0          663          1    377.00             1               2   \n",
       "18286.0          479          2   1171.58             1               3   \n",
       "18287.0           45          7   4132.99             4               4   \n",
       "\n",
       "            monetary_score RFM_SCORE  \n",
       "Customer ID                           \n",
       "12346.0                  1       121  \n",
       "12347.0                  5       545  \n",
       "12348.0                  3       233  \n",
       "12349.0                  5       535  \n",
       "12350.0                  2       212  \n",
       "...                    ...       ...  \n",
       "18283.0                  5       555  \n",
       "18284.0                  2       122  \n",
       "18285.0                  2       122  \n",
       "18286.0                  4       134  \n",
       "18287.0                  5       445  \n",
       "\n",
       "[5771 rows x 7 columns]"
      ]
     },
     "execution_count": 54,
     "metadata": {},
     "output_type": "execute_result"
    }
   ],
   "source": [
    "RFM"
   ]
  },
  {
   "cell_type": "code",
   "execution_count": 55,
   "id": "7b4d97dc",
   "metadata": {},
   "outputs": [
    {
     "data": {
      "text/html": [
       "<div>\n",
       "<style scoped>\n",
       "    .dataframe tbody tr th:only-of-type {\n",
       "        vertical-align: middle;\n",
       "    }\n",
       "\n",
       "    .dataframe tbody tr th {\n",
       "        vertical-align: top;\n",
       "    }\n",
       "\n",
       "    .dataframe thead th {\n",
       "        text-align: right;\n",
       "    }\n",
       "</style>\n",
       "<table border=\"1\" class=\"dataframe\">\n",
       "  <thead>\n",
       "    <tr style=\"text-align: right;\">\n",
       "      <th></th>\n",
       "      <th>recency</th>\n",
       "      <th>frequency</th>\n",
       "      <th>monetary</th>\n",
       "    </tr>\n",
       "    <tr>\n",
       "      <th>Customer ID</th>\n",
       "      <th></th>\n",
       "      <th></th>\n",
       "      <th></th>\n",
       "    </tr>\n",
       "  </thead>\n",
       "  <tbody>\n",
       "    <tr>\n",
       "      <th>12346.0</th>\n",
       "      <td>531</td>\n",
       "      <td>2</td>\n",
       "      <td>169.36</td>\n",
       "    </tr>\n",
       "    <tr>\n",
       "      <th>12347.0</th>\n",
       "      <td>4</td>\n",
       "      <td>8</td>\n",
       "      <td>4671.93</td>\n",
       "    </tr>\n",
       "    <tr>\n",
       "      <th>12348.0</th>\n",
       "      <td>251</td>\n",
       "      <td>4</td>\n",
       "      <td>816.24</td>\n",
       "    </tr>\n",
       "    <tr>\n",
       "      <th>12349.0</th>\n",
       "      <td>21</td>\n",
       "      <td>3</td>\n",
       "      <td>3498.94</td>\n",
       "    </tr>\n",
       "    <tr>\n",
       "      <th>12350.0</th>\n",
       "      <td>312</td>\n",
       "      <td>1</td>\n",
       "      <td>294.40</td>\n",
       "    </tr>\n",
       "    <tr>\n",
       "      <th>...</th>\n",
       "      <td>...</td>\n",
       "      <td>...</td>\n",
       "      <td>...</td>\n",
       "    </tr>\n",
       "    <tr>\n",
       "      <th>18283.0</th>\n",
       "      <td>6</td>\n",
       "      <td>22</td>\n",
       "      <td>2658.95</td>\n",
       "    </tr>\n",
       "    <tr>\n",
       "      <th>18284.0</th>\n",
       "      <td>434</td>\n",
       "      <td>1</td>\n",
       "      <td>411.68</td>\n",
       "    </tr>\n",
       "    <tr>\n",
       "      <th>18285.0</th>\n",
       "      <td>663</td>\n",
       "      <td>1</td>\n",
       "      <td>377.00</td>\n",
       "    </tr>\n",
       "    <tr>\n",
       "      <th>18286.0</th>\n",
       "      <td>479</td>\n",
       "      <td>2</td>\n",
       "      <td>1171.58</td>\n",
       "    </tr>\n",
       "    <tr>\n",
       "      <th>18287.0</th>\n",
       "      <td>45</td>\n",
       "      <td>7</td>\n",
       "      <td>4132.99</td>\n",
       "    </tr>\n",
       "  </tbody>\n",
       "</table>\n",
       "<p>5771 rows × 3 columns</p>\n",
       "</div>"
      ],
      "text/plain": [
       "             recency  frequency  monetary\n",
       "Customer ID                              \n",
       "12346.0          531          2    169.36\n",
       "12347.0            4          8   4671.93\n",
       "12348.0          251          4    816.24\n",
       "12349.0           21          3   3498.94\n",
       "12350.0          312          1    294.40\n",
       "...              ...        ...       ...\n",
       "18283.0            6         22   2658.95\n",
       "18284.0          434          1    411.68\n",
       "18285.0          663          1    377.00\n",
       "18286.0          479          2   1171.58\n",
       "18287.0           45          7   4132.99\n",
       "\n",
       "[5771 rows x 3 columns]"
      ]
     },
     "execution_count": 55,
     "metadata": {},
     "output_type": "execute_result"
    }
   ],
   "source": [
    "RFM2 = RFM.drop(['recency_score', 'frequency_score', 'monetary_score', 'RFM_SCORE'], axis=1)\n",
    "RFM2"
   ]
  },
  {
   "cell_type": "markdown",
   "id": "2edbf015",
   "metadata": {},
   "source": [
    "## Handling outliers"
   ]
  },
  {
   "cell_type": "code",
   "execution_count": 56,
   "id": "c84f4282",
   "metadata": {
    "scrolled": true
   },
   "outputs": [
    {
     "data": {
      "image/png": "[encoded data removed]",
      "text/plain": [
       "<Figure size 432x288 with 1 Axes>"
      ]
     },
     "metadata": {
      "needs_background": "light"
     },
     "output_type": "display_data"
    },
    {
     "data": {
      "image/png": "[encoded data removed]",
      "text/plain": [
       "<Figure size 432x288 with 1 Axes>"
      ]
     },
     "metadata": {
      "needs_background": "light"
     },
     "output_type": "display_data"
    },
    {
     "data": {
      "image/png": "[encoded data removed]",
      "text/plain": [
       "<Figure size 432x288 with 1 Axes>"
      ]
     },
     "metadata": {
      "needs_background": "light"
     },
     "output_type": "display_data"
    }
   ],
   "source": [
    "for i in RFM2.columns:\n",
    "    plt.figure()\n",
    "    plt.tight_layout()\n",
    "    plt.gca().set(xlabel= i, ylabel='Frequency')\n",
    "    plt.boxplot(RFM2[i])"
   ]
  },
  {
   "cell_type": "code",
   "execution_count": 57,
   "id": "6010089c",
   "metadata": {},
   "outputs": [
    {
     "name": "stdout",
     "output_type": "stream",
     "text": [
      "Number of outliers in recency column:  0\n",
      "Indexes:  Float64Index([], dtype='float64', name='Customer ID')\n",
      "****************************************\n",
      "Number of outliers in frequency column:  48\n",
      "Indexes:  Float64Index([12471.0, 12682.0, 12748.0, 12921.0, 12971.0, 13078.0, 13089.0,\n",
      "              13093.0, 13199.0, 13319.0, 13408.0, 13468.0, 13694.0, 13767.0,\n",
      "              13777.0, 13798.0, 14156.0, 14298.0, 14527.0, 14606.0, 14646.0,\n",
      "              14667.0, 14680.0, 14735.0, 14911.0, 15005.0, 15039.0, 15061.0,\n",
      "              15078.0, 15311.0, 15856.0, 16029.0, 16133.0, 16168.0, 16422.0,\n",
      "              16779.0, 17243.0, 17377.0, 17389.0, 17511.0, 17675.0, 17677.0,\n",
      "              17757.0, 17841.0, 17850.0, 17920.0, 17961.0, 18102.0],\n",
      "             dtype='float64', name='Customer ID')\n",
      "****************************************\n",
      "Number of outliers in monetary column:  57\n",
      "Indexes:  Float64Index([12415.0, 12471.0, 12678.0, 12681.0, 12682.0, 12709.0, 12731.0,\n",
      "              12748.0, 12921.0, 13001.0, 13078.0, 13081.0, 13089.0, 13093.0,\n",
      "              13098.0, 13319.0, 13408.0, 13694.0, 13767.0, 13798.0, 13881.0,\n",
      "              14031.0, 14051.0, 14062.0, 14088.0, 14096.0, 14156.0, 14258.0,\n",
      "              14298.0, 14527.0, 14606.0, 14646.0, 14680.0, 14895.0, 14911.0,\n",
      "              15039.0, 15061.0, 15159.0, 15311.0, 15498.0, 15513.0, 15615.0,\n",
      "              15640.0, 15856.0, 16422.0, 16684.0, 16705.0, 16779.0, 17389.0,\n",
      "              17428.0, 17450.0, 17511.0, 17675.0, 17841.0, 17850.0, 17865.0,\n",
      "              18102.0],\n",
      "             dtype='float64', name='Customer ID')\n",
      "****************************************\n"
     ]
    }
   ],
   "source": [
    "for i in RFM2.columns:\n",
    "    num_outlier(RFM2, i)\n",
    "    print(\"*\"*40)"
   ]
  },
  {
   "cell_type": "code",
   "execution_count": 58,
   "id": "30414664",
   "metadata": {},
   "outputs": [
    {
     "data": {
      "text/plain": [
       "(5771, 3)"
      ]
     },
     "execution_count": 58,
     "metadata": {},
     "output_type": "execute_result"
    }
   ],
   "source": [
    "RFM2.shape"
   ]
  },
  {
   "cell_type": "markdown",
   "id": "b394865c",
   "metadata": {},
   "source": [
    "We decided to remove outliers that fall with +/- 5% boundaries:"
   ]
  },
  {
   "cell_type": "code",
   "execution_count": 59,
   "id": "131f8292",
   "metadata": {},
   "outputs": [
    {
     "name": "stdout",
     "output_type": "stream",
     "text": [
      "Outliers in the recency column have been removed\n",
      "****************************************\n",
      "Outliers in the frequency column have been removed\n",
      "****************************************\n",
      "Outliers in the monetary column have been removed\n",
      "****************************************\n"
     ]
    }
   ],
   "source": [
    "for i in RFM2.columns:\n",
    "    remove_outlier(RFM2, i)\n",
    "    print(\"*\"*40)"
   ]
  },
  {
   "cell_type": "code",
   "execution_count": 60,
   "id": "e5b07d6b",
   "metadata": {
    "scrolled": true
   },
   "outputs": [
    {
     "data": {
      "text/plain": [
       "(5690, 3)"
      ]
     },
     "execution_count": 60,
     "metadata": {},
     "output_type": "execute_result"
    }
   ],
   "source": [
    "RFM2.shape"
   ]
  },
  {
   "cell_type": "markdown",
   "id": "7ed14fba",
   "metadata": {},
   "source": [
    "Let's apply StandardScaler:"
   ]
  },
  {
   "cell_type": "code",
   "execution_count": 61,
   "id": "d4ee2683",
   "metadata": {},
   "outputs": [
    {
     "data": {
      "text/plain": [
       "array([[ 1.56157542, -0.51745665, -0.62877303],\n",
       "       [-0.96208261,  0.45181637,  1.21556989],\n",
       "       [ 0.22073245, -0.19436565, -0.36379801],\n",
       "       ...,\n",
       "       [ 2.19368711, -0.67900216, -0.54371952],\n",
       "       [ 1.31256173, -0.51745665, -0.21824363],\n",
       "       [-0.76574489,  0.29027087,  0.99480926]])"
      ]
     },
     "execution_count": 61,
     "metadata": {},
     "output_type": "execute_result"
    }
   ],
   "source": [
    "from sklearn.preprocessing import StandardScaler\n",
    "scaler= StandardScaler()\n",
    "\n",
    "RFM2_scaled= scaler.fit_transform(RFM2)\n",
    "RFM2_scaled"
   ]
  },
  {
   "cell_type": "code",
   "execution_count": 62,
   "id": "52bfad6d",
   "metadata": {},
   "outputs": [
    {
     "data": {
      "text/html": [
       "<div>\n",
       "<style scoped>\n",
       "    .dataframe tbody tr th:only-of-type {\n",
       "        vertical-align: middle;\n",
       "    }\n",
       "\n",
       "    .dataframe tbody tr th {\n",
       "        vertical-align: top;\n",
       "    }\n",
       "\n",
       "    .dataframe thead th {\n",
       "        text-align: right;\n",
       "    }\n",
       "</style>\n",
       "<table border=\"1\" class=\"dataframe\">\n",
       "  <thead>\n",
       "    <tr style=\"text-align: right;\">\n",
       "      <th></th>\n",
       "      <th>recency</th>\n",
       "      <th>frequency</th>\n",
       "      <th>monetary</th>\n",
       "    </tr>\n",
       "  </thead>\n",
       "  <tbody>\n",
       "    <tr>\n",
       "      <th>0</th>\n",
       "      <td>1.561575</td>\n",
       "      <td>-0.517457</td>\n",
       "      <td>-0.628773</td>\n",
       "    </tr>\n",
       "    <tr>\n",
       "      <th>1</th>\n",
       "      <td>-0.962083</td>\n",
       "      <td>0.451816</td>\n",
       "      <td>1.215570</td>\n",
       "    </tr>\n",
       "    <tr>\n",
       "      <th>2</th>\n",
       "      <td>0.220732</td>\n",
       "      <td>-0.194366</td>\n",
       "      <td>-0.363798</td>\n",
       "    </tr>\n",
       "    <tr>\n",
       "      <th>3</th>\n",
       "      <td>-0.880674</td>\n",
       "      <td>-0.355911</td>\n",
       "      <td>0.735090</td>\n",
       "    </tr>\n",
       "    <tr>\n",
       "      <th>4</th>\n",
       "      <td>0.512845</td>\n",
       "      <td>-0.679002</td>\n",
       "      <td>-0.577554</td>\n",
       "    </tr>\n",
       "  </tbody>\n",
       "</table>\n",
       "</div>"
      ],
      "text/plain": [
       "    recency  frequency  monetary\n",
       "0  1.561575  -0.517457 -0.628773\n",
       "1 -0.962083   0.451816  1.215570\n",
       "2  0.220732  -0.194366 -0.363798\n",
       "3 -0.880674  -0.355911  0.735090\n",
       "4  0.512845  -0.679002 -0.577554"
      ]
     },
     "execution_count": 62,
     "metadata": {},
     "output_type": "execute_result"
    }
   ],
   "source": [
    "RFM2_scaled_df=pd.DataFrame(RFM2_scaled)\n",
    "RFM2_scaled_df.columns = ['recency', 'frequency', 'monetary']\n",
    "RFM2_scaled_df.head()"
   ]
  },
  {
   "cell_type": "markdown",
   "id": "a3346d5f",
   "metadata": {},
   "source": [
    "# K-means Clustering"
   ]
  },
  {
   "cell_type": "code",
   "execution_count": 63,
   "id": "b20e52dd",
   "metadata": {},
   "outputs": [
    {
     "name": "stdout",
     "output_type": "stream",
     "text": [
      "Requirement already satisfied: yellowbrick in c:\\users\\tt z580\\anaconda3\\lib\\site-packages (1.5)\n",
      "Requirement already satisfied: scipy>=1.0.0 in c:\\users\\tt z580\\anaconda3\\lib\\site-packages (from yellowbrick) (1.7.3)\n",
      "Requirement already satisfied: scikit-learn>=1.0.0 in c:\\users\\tt z580\\anaconda3\\lib\\site-packages (from yellowbrick) (1.1.2)\n",
      "Requirement already satisfied: numpy>=1.16.0 in c:\\users\\tt z580\\anaconda3\\lib\\site-packages (from yellowbrick) (1.21.5)\n",
      "Requirement already satisfied: cycler>=0.10.0 in c:\\users\\tt z580\\anaconda3\\lib\\site-packages (from yellowbrick) (0.11.0)\n",
      "Requirement already satisfied: matplotlib!=3.0.0,>=2.0.2 in c:\\users\\tt z580\\anaconda3\\lib\\site-packages (from yellowbrick) (3.5.1)\n",
      "Requirement already satisfied: fonttools>=4.22.0 in c:\\users\\tt z580\\anaconda3\\lib\\site-packages (from matplotlib!=3.0.0,>=2.0.2->yellowbrick) (4.25.0)\n",
      "Requirement already satisfied: python-dateutil>=2.7 in c:\\users\\tt z580\\anaconda3\\lib\\site-packages (from matplotlib!=3.0.0,>=2.0.2->yellowbrick) (2.8.2)\n",
      "Requirement already satisfied: kiwisolver>=1.0.1 in c:\\users\\tt z580\\anaconda3\\lib\\site-packages (from matplotlib!=3.0.0,>=2.0.2->yellowbrick) (1.3.2)\n",
      "Requirement already satisfied: pillow>=6.2.0 in c:\\users\\tt z580\\anaconda3\\lib\\site-packages (from matplotlib!=3.0.0,>=2.0.2->yellowbrick) (9.0.1)\n",
      "Requirement already satisfied: pyparsing>=2.2.1 in c:\\users\\tt z580\\anaconda3\\lib\\site-packages (from matplotlib!=3.0.0,>=2.0.2->yellowbrick) (3.0.4)\n",
      "Requirement already satisfied: packaging>=20.0 in c:\\users\\tt z580\\anaconda3\\lib\\site-packages (from matplotlib!=3.0.0,>=2.0.2->yellowbrick) (21.3)\n",
      "Requirement already satisfied: six>=1.5 in c:\\users\\tt z580\\anaconda3\\lib\\site-packages (from python-dateutil>=2.7->matplotlib!=3.0.0,>=2.0.2->yellowbrick) (1.16.0)\n",
      "Requirement already satisfied: joblib>=1.0.0 in c:\\users\\tt z580\\anaconda3\\lib\\site-packages (from scikit-learn>=1.0.0->yellowbrick) (1.1.0)\n",
      "Requirement already satisfied: threadpoolctl>=2.0.0 in c:\\users\\tt z580\\anaconda3\\lib\\site-packages (from scikit-learn>=1.0.0->yellowbrick) (2.2.0)\n"
     ]
    }
   ],
   "source": [
    "from sklearn.cluster import KMeans\n",
    "!pip install yellowbrick\n",
    "from yellowbrick.cluster import KElbowVisualizer"
   ]
  },
  {
   "cell_type": "code",
   "execution_count": 64,
   "id": "566db72a",
   "metadata": {
    "scrolled": true
   },
   "outputs": [
    {
     "data": {
      "image/png": "[encoded data removed]",
      "text/plain": [
       "<Figure size 576x396 with 2 Axes>"
      ]
     },
     "metadata": {},
     "output_type": "display_data"
    },
    {
     "data": {
      "text/plain": [
       "<AxesSubplot:title={'center':'Distortion Score Elbow for KMeans Clustering'}, xlabel='k', ylabel='distortion score'>"
      ]
     },
     "execution_count": 64,
     "metadata": {},
     "output_type": "execute_result"
    }
   ],
   "source": [
    "k_means = KMeans()\n",
    "elbow = KElbowVisualizer(k_means, k=(2, 20))\n",
    "elbow.fit(RFM2_scaled_df)\n",
    "elbow.show()"
   ]
  },
  {
   "cell_type": "markdown",
   "id": "89d17242",
   "metadata": {},
   "source": [
    "The optimal K value for Elbow was found to be 6."
   ]
  },
  {
   "cell_type": "code",
   "execution_count": 65,
   "id": "41353ebc",
   "metadata": {
    "scrolled": true
   },
   "outputs": [
    {
     "data": {
      "text/html": [
       "<style>#sk-container-id-1 {color: black;background-color: white;}#sk-container-id-1 pre{padding: 0;}#sk-container-id-1 div.sk-toggleable {background-color: white;}#sk-container-id-1 label.sk-toggleable__label {cursor: pointer;display: block;width: 100%;margin-bottom: 0;padding: 0.3em;box-sizing: border-box;text-align: center;}#sk-container-id-1 label.sk-toggleable__label-arrow:before {content: \"▸\";float: left;margin-right: 0.25em;color: #696969;}#sk-container-id-1 label.sk-toggleable__label-arrow:hover:before {color: black;}#sk-container-id-1 div.sk-estimator:hover label.sk-toggleable__label-arrow:before {color: black;}#sk-container-id-1 div.sk-toggleable__content {max-height: 0;max-width: 0;overflow: hidden;text-align: left;background-color: #f0f8ff;}#sk-container-id-1 div.sk-toggleable__content pre {margin: 0.2em;color: black;border-radius: 0.25em;background-color: #f0f8ff;}#sk-container-id-1 input.sk-toggleable__control:checked~div.sk-toggleable__content {max-height: 200px;max-width: 100%;overflow: auto;}#sk-container-id-1 input.sk-toggleable__control:checked~label.sk-toggleable__label-arrow:before {content: \"▾\";}#sk-container-id-1 div.sk-estimator input.sk-toggleable__control:checked~label.sk-toggleable__label {background-color: #d4ebff;}#sk-container-id-1 div.sk-label input.sk-toggleable__control:checked~label.sk-toggleable__label {background-color: #d4ebff;}#sk-container-id-1 input.sk-hidden--visually {border: 0;clip: rect(1px 1px 1px 1px);clip: rect(1px, 1px, 1px, 1px);height: 1px;margin: -1px;overflow: hidden;padding: 0;position: absolute;width: 1px;}#sk-container-id-1 div.sk-estimator {font-family: monospace;background-color: #f0f8ff;border: 1px dotted black;border-radius: 0.25em;box-sizing: border-box;margin-bottom: 0.5em;}#sk-container-id-1 div.sk-estimator:hover {background-color: #d4ebff;}#sk-container-id-1 div.sk-parallel-item::after {content: \"\";width: 100%;border-bottom: 1px solid gray;flex-grow: 1;}#sk-container-id-1 div.sk-label:hover label.sk-toggleable__label {background-color: #d4ebff;}#sk-container-id-1 div.sk-serial::before {content: \"\";position: absolute;border-left: 1px solid gray;box-sizing: border-box;top: 0;bottom: 0;left: 50%;z-index: 0;}#sk-container-id-1 div.sk-serial {display: flex;flex-direction: column;align-items: center;background-color: white;padding-right: 0.2em;padding-left: 0.2em;position: relative;}#sk-container-id-1 div.sk-item {position: relative;z-index: 1;}#sk-container-id-1 div.sk-parallel {display: flex;align-items: stretch;justify-content: center;background-color: white;position: relative;}#sk-container-id-1 div.sk-item::before, #sk-container-id-1 div.sk-parallel-item::before {content: \"\";position: absolute;border-left: 1px solid gray;box-sizing: border-box;top: 0;bottom: 0;left: 50%;z-index: -1;}#sk-container-id-1 div.sk-parallel-item {display: flex;flex-direction: column;z-index: 1;position: relative;background-color: white;}#sk-container-id-1 div.sk-parallel-item:first-child::after {align-self: flex-end;width: 50%;}#sk-container-id-1 div.sk-parallel-item:last-child::after {align-self: flex-start;width: 50%;}#sk-container-id-1 div.sk-parallel-item:only-child::after {width: 0;}#sk-container-id-1 div.sk-dashed-wrapped {border: 1px dashed gray;margin: 0 0.4em 0.5em 0.4em;box-sizing: border-box;padding-bottom: 0.4em;background-color: white;}#sk-container-id-1 div.sk-label label {font-family: monospace;font-weight: bold;display: inline-block;line-height: 1.2em;}#sk-container-id-1 div.sk-label-container {text-align: center;}#sk-container-id-1 div.sk-container {/* jupyter's `normalize.less` sets `[hidden] { display: none; }` but bootstrap.min.css set `[hidden] { display: none !important; }` so we also need the `!important` here to be able to override the default hidden behavior on the sphinx rendered scikit-learn.org. See: https://github.com/scikit-learn/scikit-learn/issues/21755 */display: inline-block !important;position: relative;}#sk-container-id-1 div.sk-text-repr-fallback {display: none;}</style><div id=\"sk-container-id-1\" class=\"sk-top-container\"><div class=\"sk-text-repr-fallback\"><pre>KMeans(n_clusters=6)</pre><b>In a Jupyter environment, please rerun this cell to show the HTML representation or trust the notebook. <br />On GitHub, the HTML representation is unable to render, please try loading this page with nbviewer.org.</b></div><div class=\"sk-container\" hidden><div class=\"sk-item\"><div class=\"sk-estimator sk-toggleable\"><input class=\"sk-toggleable__control sk-hidden--visually\" id=\"sk-estimator-id-1\" type=\"checkbox\" checked><label for=\"sk-estimator-id-1\" class=\"sk-toggleable__label sk-toggleable__label-arrow\">KMeans</label><div class=\"sk-toggleable__content\"><pre>KMeans(n_clusters=6)</pre></div></div></div></div></div>"
      ],
      "text/plain": [
       "KMeans(n_clusters=6)"
      ]
     },
     "execution_count": 65,
     "metadata": {},
     "output_type": "execute_result"
    }
   ],
   "source": [
    "kmeans= KMeans(n_clusters=elbow.elbow_value_)\n",
    "kmeans.fit(RFM2_scaled_df)"
   ]
  },
  {
   "cell_type": "markdown",
   "id": "3e1e8ebb",
   "metadata": {},
   "source": [
    "Let's assign the label:"
   ]
  },
  {
   "cell_type": "code",
   "execution_count": 66,
   "id": "035f8e49",
   "metadata": {},
   "outputs": [
    {
     "data": {
      "text/html": [
       "<div>\n",
       "<style scoped>\n",
       "    .dataframe tbody tr th:only-of-type {\n",
       "        vertical-align: middle;\n",
       "    }\n",
       "\n",
       "    .dataframe tbody tr th {\n",
       "        vertical-align: top;\n",
       "    }\n",
       "\n",
       "    .dataframe thead th {\n",
       "        text-align: right;\n",
       "    }\n",
       "</style>\n",
       "<table border=\"1\" class=\"dataframe\">\n",
       "  <thead>\n",
       "    <tr style=\"text-align: right;\">\n",
       "      <th></th>\n",
       "      <th>recency</th>\n",
       "      <th>frequency</th>\n",
       "      <th>monetary</th>\n",
       "      <th>Cluster_Id</th>\n",
       "    </tr>\n",
       "  </thead>\n",
       "  <tbody>\n",
       "    <tr>\n",
       "      <th>0</th>\n",
       "      <td>1.561575</td>\n",
       "      <td>-0.517457</td>\n",
       "      <td>-0.628773</td>\n",
       "      <td>2</td>\n",
       "    </tr>\n",
       "    <tr>\n",
       "      <th>1</th>\n",
       "      <td>-0.962083</td>\n",
       "      <td>0.451816</td>\n",
       "      <td>1.215570</td>\n",
       "      <td>1</td>\n",
       "    </tr>\n",
       "    <tr>\n",
       "      <th>2</th>\n",
       "      <td>0.220732</td>\n",
       "      <td>-0.194366</td>\n",
       "      <td>-0.363798</td>\n",
       "      <td>0</td>\n",
       "    </tr>\n",
       "    <tr>\n",
       "      <th>3</th>\n",
       "      <td>-0.880674</td>\n",
       "      <td>-0.355911</td>\n",
       "      <td>0.735090</td>\n",
       "      <td>1</td>\n",
       "    </tr>\n",
       "    <tr>\n",
       "      <th>4</th>\n",
       "      <td>0.512845</td>\n",
       "      <td>-0.679002</td>\n",
       "      <td>-0.577554</td>\n",
       "      <td>0</td>\n",
       "    </tr>\n",
       "  </tbody>\n",
       "</table>\n",
       "</div>"
      ],
      "text/plain": [
       "    recency  frequency  monetary  Cluster_Id\n",
       "0  1.561575  -0.517457 -0.628773           2\n",
       "1 -0.962083   0.451816  1.215570           1\n",
       "2  0.220732  -0.194366 -0.363798           0\n",
       "3 -0.880674  -0.355911  0.735090           1\n",
       "4  0.512845  -0.679002 -0.577554           0"
      ]
     },
     "execution_count": 66,
     "metadata": {},
     "output_type": "execute_result"
    }
   ],
   "source": [
    "RFM2_scaled_df['Cluster_Id']= kmeans.labels_\n",
    "RFM2_scaled_df.head()"
   ]
  },
  {
   "cell_type": "code",
   "execution_count": 67,
   "id": "bc37aa0f",
   "metadata": {},
   "outputs": [
    {
     "data": {
      "text/html": [
       "<div>\n",
       "<style scoped>\n",
       "    .dataframe tbody tr th:only-of-type {\n",
       "        vertical-align: middle;\n",
       "    }\n",
       "\n",
       "    .dataframe tbody tr th {\n",
       "        vertical-align: top;\n",
       "    }\n",
       "\n",
       "    .dataframe thead th {\n",
       "        text-align: right;\n",
       "    }\n",
       "</style>\n",
       "<table border=\"1\" class=\"dataframe\">\n",
       "  <thead>\n",
       "    <tr style=\"text-align: right;\">\n",
       "      <th></th>\n",
       "      <th>Customer</th>\n",
       "      <th>Cluster</th>\n",
       "    </tr>\n",
       "  </thead>\n",
       "  <tbody>\n",
       "    <tr>\n",
       "      <th>0</th>\n",
       "      <td>12346.0</td>\n",
       "      <td>2</td>\n",
       "    </tr>\n",
       "    <tr>\n",
       "      <th>1</th>\n",
       "      <td>12347.0</td>\n",
       "      <td>1</td>\n",
       "    </tr>\n",
       "    <tr>\n",
       "      <th>2</th>\n",
       "      <td>12348.0</td>\n",
       "      <td>0</td>\n",
       "    </tr>\n",
       "    <tr>\n",
       "      <th>3</th>\n",
       "      <td>12349.0</td>\n",
       "      <td>1</td>\n",
       "    </tr>\n",
       "    <tr>\n",
       "      <th>4</th>\n",
       "      <td>12350.0</td>\n",
       "      <td>0</td>\n",
       "    </tr>\n",
       "    <tr>\n",
       "      <th>...</th>\n",
       "      <td>...</td>\n",
       "      <td>...</td>\n",
       "    </tr>\n",
       "    <tr>\n",
       "      <th>5685</th>\n",
       "      <td>18283.0</td>\n",
       "      <td>5</td>\n",
       "    </tr>\n",
       "    <tr>\n",
       "      <th>5686</th>\n",
       "      <td>18284.0</td>\n",
       "      <td>0</td>\n",
       "    </tr>\n",
       "    <tr>\n",
       "      <th>5687</th>\n",
       "      <td>18285.0</td>\n",
       "      <td>2</td>\n",
       "    </tr>\n",
       "    <tr>\n",
       "      <th>5688</th>\n",
       "      <td>18286.0</td>\n",
       "      <td>0</td>\n",
       "    </tr>\n",
       "    <tr>\n",
       "      <th>5689</th>\n",
       "      <td>18287.0</td>\n",
       "      <td>1</td>\n",
       "    </tr>\n",
       "  </tbody>\n",
       "</table>\n",
       "<p>5690 rows × 2 columns</p>\n",
       "</div>"
      ],
      "text/plain": [
       "      Customer  Cluster\n",
       "0      12346.0        2\n",
       "1      12347.0        1\n",
       "2      12348.0        0\n",
       "3      12349.0        1\n",
       "4      12350.0        0\n",
       "...        ...      ...\n",
       "5685   18283.0        5\n",
       "5686   18284.0        0\n",
       "5687   18285.0        2\n",
       "5688   18286.0        0\n",
       "5689   18287.0        1\n",
       "\n",
       "[5690 rows x 2 columns]"
      ]
     },
     "execution_count": 67,
     "metadata": {},
     "output_type": "execute_result"
    }
   ],
   "source": [
    "segments = pd.DataFrame({\"Customer\": RFM2.index, \"Cluster\": kmeans.labels_})\n",
    "segments"
   ]
  },
  {
   "cell_type": "code",
   "execution_count": 68,
   "id": "8e331c4a",
   "metadata": {},
   "outputs": [
    {
     "data": {
      "image/png": "[encoded data removed]",
      "text/plain": [
       "<Figure size 864x576 with 1 Axes>"
      ]
     },
     "metadata": {},
     "output_type": "display_data"
    }
   ],
   "source": [
    "plt.figure(figsize=(12, 8))\n",
    "sns.scatterplot(RFM2_scaled_df['recency'], RFM2_scaled_df['monetary'], hue=RFM2_scaled_df['Cluster_Id'], \n",
    "                palette=sns.color_palette('hls', elbow.elbow_value_))\n",
    "plt.title('KMeans with Clusters')\n",
    "plt.show()"
   ]
  },
  {
   "cell_type": "code",
   "execution_count": 69,
   "id": "93f4d19a",
   "metadata": {},
   "outputs": [
    {
     "data": {
      "image/png": "[encoded data removed]",
      "text/plain": [
       "<Figure size 864x576 with 1 Axes>"
      ]
     },
     "metadata": {},
     "output_type": "display_data"
    }
   ],
   "source": [
    "plt.figure(figsize=(12, 8))\n",
    "sns.scatterplot(RFM2_scaled_df['frequency'], RFM2_scaled_df['monetary'], hue=RFM2_scaled_df['Cluster_Id'], \n",
    "                palette=sns.color_palette('hls', elbow.elbow_value_))\n",
    "plt.title('KMeans with Clusters')\n",
    "plt.show()"
   ]
  },
  {
   "cell_type": "markdown",
   "id": "06287cc2",
   "metadata": {},
   "source": [
    "# Hierarchical Agglomerative Clustering "
   ]
  },
  {
   "cell_type": "code",
   "execution_count": 70,
   "id": "32742b42",
   "metadata": {},
   "outputs": [],
   "source": [
    "from sklearn.cluster import AgglomerativeClustering\n",
    "import scipy.cluster.hierarchy as sch"
   ]
  },
  {
   "cell_type": "code",
   "execution_count": 71,
   "id": "a9f61949",
   "metadata": {},
   "outputs": [
    {
     "data": {
      "image/png": "[encoded data removed]",
      "text/plain": [
       "<Figure size 576x396 with 1 Axes>"
      ]
     },
     "metadata": {},
     "output_type": "display_data"
    }
   ],
   "source": [
    "dendrogram = sch.dendrogram(sch.linkage(RFM2_scaled_df, method='ward'))"
   ]
  },
  {
   "cell_type": "markdown",
   "id": "de206df3",
   "metadata": {},
   "source": [
    "Find optimal number of clusters from Dendrogram:\n",
    "\n",
    "For finding the optimal number of clusters we need to :\n",
    "\n",
    "1. Determine the largest vertical distance that doesn’t intersect any other cluster.\n",
    "2. Draw two horizontal lines at both extremes like A and B in above figure.\n",
    "3. The optimal number of cluster = number of vertical lines going through the horizontal lines.\n",
    "\n",
    "Source= https://medium.com/analytics-vidhya/hierarchical-clustering-agglomerative-f6906d440981"
   ]
  },
  {
   "attachments": {
    "image-2.png": {
     "image/png": "[encoded data removed]"
    }
   },
   "cell_type": "markdown",
   "id": "6a238e65",
   "metadata": {},
   "source": [
    "![image-2.png](attachment:image-2.png)"
   ]
  },
  {
   "cell_type": "markdown",
   "id": "5c89f49c",
   "metadata": {},
   "source": [
    "Here, from above Dendrogram we can clearly see that there are 2 vertical lines going through horizontal lines.\n",
    "\n",
    "Therefore, Optimal number of clusters = 2.\n",
    "\n",
    "***In fact, it will be discussed later that this method is not a very useful method.***"
   ]
  },
  {
   "cell_type": "code",
   "execution_count": 72,
   "id": "5eda623b",
   "metadata": {},
   "outputs": [],
   "source": [
    "HAC = AgglomerativeClustering(n_clusters= 2)"
   ]
  },
  {
   "cell_type": "code",
   "execution_count": 73,
   "id": "92b38459",
   "metadata": {},
   "outputs": [],
   "source": [
    "segments_HAC = HAC.fit_predict(RFM2_scaled_df)"
   ]
  },
  {
   "cell_type": "code",
   "execution_count": 74,
   "id": "3e12c63d",
   "metadata": {},
   "outputs": [],
   "source": [
    "RFM2_scaled_df[\"Hierarchi_Clusters\"]= segments_HAC"
   ]
  },
  {
   "cell_type": "code",
   "execution_count": 75,
   "id": "4d275ede",
   "metadata": {},
   "outputs": [
    {
     "data": {
      "text/html": [
       "<div>\n",
       "<style scoped>\n",
       "    .dataframe tbody tr th:only-of-type {\n",
       "        vertical-align: middle;\n",
       "    }\n",
       "\n",
       "    .dataframe tbody tr th {\n",
       "        vertical-align: top;\n",
       "    }\n",
       "\n",
       "    .dataframe thead th {\n",
       "        text-align: right;\n",
       "    }\n",
       "</style>\n",
       "<table border=\"1\" class=\"dataframe\">\n",
       "  <thead>\n",
       "    <tr style=\"text-align: right;\">\n",
       "      <th></th>\n",
       "      <th>recency</th>\n",
       "      <th>frequency</th>\n",
       "      <th>monetary</th>\n",
       "      <th>Cluster_Id</th>\n",
       "      <th>Hierarchi_Clusters</th>\n",
       "    </tr>\n",
       "  </thead>\n",
       "  <tbody>\n",
       "    <tr>\n",
       "      <th>0</th>\n",
       "      <td>1.561575</td>\n",
       "      <td>-0.517457</td>\n",
       "      <td>-0.628773</td>\n",
       "      <td>2</td>\n",
       "      <td>1</td>\n",
       "    </tr>\n",
       "    <tr>\n",
       "      <th>1</th>\n",
       "      <td>-0.962083</td>\n",
       "      <td>0.451816</td>\n",
       "      <td>1.215570</td>\n",
       "      <td>1</td>\n",
       "      <td>1</td>\n",
       "    </tr>\n",
       "    <tr>\n",
       "      <th>2</th>\n",
       "      <td>0.220732</td>\n",
       "      <td>-0.194366</td>\n",
       "      <td>-0.363798</td>\n",
       "      <td>0</td>\n",
       "      <td>1</td>\n",
       "    </tr>\n",
       "    <tr>\n",
       "      <th>3</th>\n",
       "      <td>-0.880674</td>\n",
       "      <td>-0.355911</td>\n",
       "      <td>0.735090</td>\n",
       "      <td>1</td>\n",
       "      <td>1</td>\n",
       "    </tr>\n",
       "    <tr>\n",
       "      <th>4</th>\n",
       "      <td>0.512845</td>\n",
       "      <td>-0.679002</td>\n",
       "      <td>-0.577554</td>\n",
       "      <td>0</td>\n",
       "      <td>1</td>\n",
       "    </tr>\n",
       "    <tr>\n",
       "      <th>...</th>\n",
       "      <td>...</td>\n",
       "      <td>...</td>\n",
       "      <td>...</td>\n",
       "      <td>...</td>\n",
       "      <td>...</td>\n",
       "    </tr>\n",
       "    <tr>\n",
       "      <th>5685</th>\n",
       "      <td>-0.952505</td>\n",
       "      <td>2.713453</td>\n",
       "      <td>0.391013</td>\n",
       "      <td>5</td>\n",
       "      <td>0</td>\n",
       "    </tr>\n",
       "    <tr>\n",
       "      <th>5686</th>\n",
       "      <td>1.097069</td>\n",
       "      <td>-0.679002</td>\n",
       "      <td>-0.529514</td>\n",
       "      <td>0</td>\n",
       "      <td>1</td>\n",
       "    </tr>\n",
       "    <tr>\n",
       "      <th>5687</th>\n",
       "      <td>2.193687</td>\n",
       "      <td>-0.679002</td>\n",
       "      <td>-0.543720</td>\n",
       "      <td>2</td>\n",
       "      <td>1</td>\n",
       "    </tr>\n",
       "    <tr>\n",
       "      <th>5688</th>\n",
       "      <td>1.312562</td>\n",
       "      <td>-0.517457</td>\n",
       "      <td>-0.218244</td>\n",
       "      <td>0</td>\n",
       "      <td>1</td>\n",
       "    </tr>\n",
       "    <tr>\n",
       "      <th>5689</th>\n",
       "      <td>-0.765745</td>\n",
       "      <td>0.290271</td>\n",
       "      <td>0.994809</td>\n",
       "      <td>1</td>\n",
       "      <td>1</td>\n",
       "    </tr>\n",
       "  </tbody>\n",
       "</table>\n",
       "<p>5690 rows × 5 columns</p>\n",
       "</div>"
      ],
      "text/plain": [
       "       recency  frequency  monetary  Cluster_Id  Hierarchi_Clusters\n",
       "0     1.561575  -0.517457 -0.628773           2                   1\n",
       "1    -0.962083   0.451816  1.215570           1                   1\n",
       "2     0.220732  -0.194366 -0.363798           0                   1\n",
       "3    -0.880674  -0.355911  0.735090           1                   1\n",
       "4     0.512845  -0.679002 -0.577554           0                   1\n",
       "...        ...        ...       ...         ...                 ...\n",
       "5685 -0.952505   2.713453  0.391013           5                   0\n",
       "5686  1.097069  -0.679002 -0.529514           0                   1\n",
       "5687  2.193687  -0.679002 -0.543720           2                   1\n",
       "5688  1.312562  -0.517457 -0.218244           0                   1\n",
       "5689 -0.765745   0.290271  0.994809           1                   1\n",
       "\n",
       "[5690 rows x 5 columns]"
      ]
     },
     "execution_count": 75,
     "metadata": {},
     "output_type": "execute_result"
    }
   ],
   "source": [
    "RFM2_scaled_df"
   ]
  },
  {
   "cell_type": "code",
   "execution_count": 76,
   "id": "9e483e9a",
   "metadata": {
    "scrolled": true
   },
   "outputs": [
    {
     "data": {
      "image/png": "[encoded data removed]",
      "text/plain": [
       "<Figure size 1440x720 with 1 Axes>"
      ]
     },
     "metadata": {},
     "output_type": "display_data"
    }
   ],
   "source": [
    "RFM2_scaled_df.groupby(\"Hierarchi_Clusters\").agg({\"recency\": [\"mean\", \"median\", \"count\"],\n",
    "                                                  \"frequency\": [\"mean\", \"median\", \"count\"],\n",
    "                                                  \"monetary\": [\"mean\", \"median\", \"count\"]})\n",
    "\n",
    "plt.figure(figsize=(20, 10))\n",
    "sns.boxplot(x=\"Hierarchi_Clusters\", y=\"monetary\", data=RFM2_scaled_df)\n",
    "plt.show()"
   ]
  },
  {
   "cell_type": "code",
   "execution_count": 77,
   "id": "9d6749ef",
   "metadata": {},
   "outputs": [
    {
     "data": {
      "image/png": "[encoded data removed]",
      "text/plain": [
       "<Figure size 576x396 with 1 Axes>"
      ]
     },
     "metadata": {},
     "output_type": "display_data"
    }
   ],
   "source": [
    "sns.scatterplot(data = RFM2_scaled_df,x=RFM2_scaled_df[\"recency\"], y=RFM2_scaled_df[\"monetary\"],hue=RFM2_scaled_df[\"Hierarchi_Clusters\"])\n",
    "plt.legend()\n",
    "plt.show()"
   ]
  },
  {
   "cell_type": "code",
   "execution_count": 78,
   "id": "306fb053",
   "metadata": {},
   "outputs": [
    {
     "data": {
      "image/png": "[encoded data removed]",
      "text/plain": [
       "<Figure size 576x396 with 1 Axes>"
      ]
     },
     "metadata": {},
     "output_type": "display_data"
    }
   ],
   "source": [
    "sns.scatterplot(data = RFM2_scaled_df,x=RFM2_scaled_df[\"frequency\"], y=RFM2_scaled_df[\"monetary\"],hue=RFM2_scaled_df[\"Hierarchi_Clusters\"])\n",
    "plt.legend()\n",
    "plt.show()"
   ]
  },
  {
   "cell_type": "markdown",
   "id": "7c9b4cea",
   "metadata": {},
   "source": [
    "# Model Evaluations"
   ]
  },
  {
   "cell_type": "code",
   "execution_count": 79,
   "id": "b55beba1",
   "metadata": {},
   "outputs": [],
   "source": [
    "from sklearn import metrics"
   ]
  },
  {
   "cell_type": "markdown",
   "id": "1412eabe",
   "metadata": {},
   "source": [
    "## Silhouette Score"
   ]
  },
  {
   "cell_type": "code",
   "execution_count": 80,
   "id": "54710304",
   "metadata": {},
   "outputs": [
    {
     "data": {
      "text/plain": [
       "0.5707397503312941"
      ]
     },
     "execution_count": 80,
     "metadata": {},
     "output_type": "execute_result"
    }
   ],
   "source": [
    "#Agglemorative\n",
    "metrics.silhouette_score(RFM2_scaled_df, segments_HAC, metric='euclidean')"
   ]
  },
  {
   "cell_type": "code",
   "execution_count": 81,
   "id": "c8ab77bc",
   "metadata": {},
   "outputs": [
    {
     "data": {
      "text/plain": [
       "0.7272999414673833"
      ]
     },
     "execution_count": 81,
     "metadata": {},
     "output_type": "execute_result"
    }
   ],
   "source": [
    "#K-Means model\n",
    "metrics.silhouette_score(RFM2_scaled_df, kmeans.labels_, metric='euclidean')"
   ]
  },
  {
   "cell_type": "markdown",
   "id": "f2b6f2e5",
   "metadata": {},
   "source": [
    "## Davies-Bouldin Index"
   ]
  },
  {
   "cell_type": "markdown",
   "id": "d87f5e20",
   "metadata": {},
   "source": [
    "Zero is the lowest possible score. Values closer to zero indicate a better partition."
   ]
  },
  {
   "cell_type": "code",
   "execution_count": 82,
   "id": "b519f32c",
   "metadata": {},
   "outputs": [],
   "source": [
    "from sklearn.metrics import davies_bouldin_score"
   ]
  },
  {
   "cell_type": "code",
   "execution_count": 83,
   "id": "e05f5be8",
   "metadata": {},
   "outputs": [
    {
     "data": {
      "text/plain": [
       "0.7704437553525474"
      ]
     },
     "execution_count": 83,
     "metadata": {},
     "output_type": "execute_result"
    }
   ],
   "source": [
    "#Agglemorative\n",
    "davies_bouldin_score(RFM2_scaled_df, segments_HAC)"
   ]
  },
  {
   "cell_type": "code",
   "execution_count": 84,
   "id": "5461cace",
   "metadata": {},
   "outputs": [
    {
     "data": {
      "text/plain": [
       "0.5530304915477503"
      ]
     },
     "execution_count": 84,
     "metadata": {},
     "output_type": "execute_result"
    }
   ],
   "source": [
    "#K-Means model\n",
    "davies_bouldin_score(RFM2_scaled_df, kmeans.labels_)"
   ]
  },
  {
   "cell_type": "markdown",
   "id": "df88397c",
   "metadata": {},
   "source": [
    "# Model Tuning"
   ]
  },
  {
   "cell_type": "markdown",
   "id": "8ac8a34e",
   "metadata": {},
   "source": [
    "## Silhouette analysis"
   ]
  },
  {
   "cell_type": "code",
   "execution_count": 85,
   "id": "63286eed",
   "metadata": {},
   "outputs": [
    {
     "name": "stdout",
     "output_type": "stream",
     "text": [
      "For n_clusters=2, the silhouette score is 0.5707397503312941\n",
      "For n_clusters=3, the silhouette score is 0.6187949187852375\n",
      "For n_clusters=4, the silhouette score is 0.6343741010876925\n",
      "For n_clusters=5, the silhouette score is 0.7185601941234177\n",
      "For n_clusters=6, the silhouette score is 0.7272999414673833\n",
      "For n_clusters=7, the silhouette score is 0.7180442241946176\n",
      "For n_clusters=8, the silhouette score is 0.6671090247788861\n"
     ]
    }
   ],
   "source": [
    "#K means\n",
    "range_n_clusters = [2, 3, 4, 5, 6, 7, 8]\n",
    "\n",
    "for num_clusters in range_n_clusters:\n",
    "    \n",
    "    # intialise \n",
    "    kmeans = KMeans(n_clusters=num_clusters, max_iter=50)\n",
    "    kmeans.fit(RFM2_scaled_df)\n",
    "    \n",
    "    cluster_labels = kmeans.labels_\n",
    "    \n",
    "    # silhouette score\n",
    "    silhouette_avg = metrics.silhouette_score(RFM2_scaled_df, cluster_labels)\n",
    "    print(\"For n_clusters={0}, the silhouette score is {1}\".format(num_clusters, silhouette_avg))"
   ]
  },
  {
   "cell_type": "code",
   "execution_count": 86,
   "id": "6cf25d6d",
   "metadata": {},
   "outputs": [
    {
     "name": "stdout",
     "output_type": "stream",
     "text": [
      "For n_clusters=2, the silhouette score is 0.5707397503312941\n",
      "For n_clusters=3, the silhouette score is 0.6187949187852375\n",
      "For n_clusters=4, the silhouette score is 0.6344280872729406\n",
      "For n_clusters=5, the silhouette score is 0.7185601941234177\n",
      "For n_clusters=6, the silhouette score is 0.7242369582122312\n",
      "For n_clusters=7, the silhouette score is 0.7229223352137691\n",
      "For n_clusters=8, the silhouette score is 0.6425491078921008\n"
     ]
    }
   ],
   "source": [
    "#Agglomerative Clustering\n",
    "range_n_clusters = [2, 3, 4, 5, 6, 7, 8]\n",
    "\n",
    "for num_clusters in range_n_clusters:\n",
    "    \n",
    "    # intialise\n",
    "    HAC= AgglomerativeClustering(n_clusters=num_clusters)\n",
    "    segments_HAC = HAC.fit_predict(RFM2_scaled_df)\n",
    "       \n",
    "    cluster_labels = segments_HAC\n",
    "    \n",
    "    # silhouette score\n",
    "    silhouette_avg = metrics.silhouette_score(RFM2_scaled_df, cluster_labels)\n",
    "    print(\"For n_clusters={0}, the silhouette score is {1}\".format(num_clusters, silhouette_avg))"
   ]
  },
  {
   "cell_type": "markdown",
   "id": "f4c8492f",
   "metadata": {},
   "source": [
    "# Conclusion"
   ]
  },
  {
   "cell_type": "markdown",
   "id": "1b551250",
   "metadata": {},
   "source": [
    "The silhouette ranges from −1 to +1, where a high value indicates that the object is well matched to its own cluster and poorly matched to neighboring clusters."
   ]
  },
  {
   "cell_type": "markdown",
   "id": "60145c4a",
   "metadata": {},
   "source": [
    "According to model tuning, although we infer from Dendrogram that we will use 2 classes for the Agglomerative Clustering model, actually, Both of two model also performed fairly with silhouette score of 0,72 with 6 clusters."
   ]
  },
  {
   "cell_type": "markdown",
   "id": "db1a80ea",
   "metadata": {},
   "source": [
    "Thanks for reading 😀 Please vote me!"
   ]
  }
 ],
 "metadata": {
  "kernelspec": {
   "display_name": "Python 3 (ipykernel)",
   "language": "python",
   "name": "python3"
  },
  "language_info": {
   "codemirror_mode": {
    "name": "ipython",
    "version": 3
   },
   "file_extension": ".py",
   "mimetype": "text/x-python",
   "name": "python",
   "nbconvert_exporter": "python",
   "pygments_lexer": "ipython3",
   "version": "3.9.12"
  }
 },
 "nbformat": 4,
 "nbformat_minor": 5
}
